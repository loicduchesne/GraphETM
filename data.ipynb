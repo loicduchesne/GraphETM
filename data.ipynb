{
 "cells": [
  {
   "metadata": {},
   "cell_type": "markdown",
   "source": "# Data Processing",
   "id": "75852b8e51af2279"
  },
  {
   "metadata": {
    "ExecuteTime": {
     "end_time": "2025-07-05T00:48:45.773720Z",
     "start_time": "2025-07-05T00:48:35.121760Z"
    }
   },
   "cell_type": "code",
   "source": [
    "# Imports\n",
    "import os\n",
    "import pickle\n",
    "import torch\n",
    "import numpy as np\n",
    "import pandas as pd\n",
    "import anndata as ad\n",
    "import scanpy as sc\n",
    "from scipy.io import mmread"
   ],
   "id": "b594b9c64bb75b73",
   "outputs": [],
   "execution_count": 1
  },
  {
   "metadata": {},
   "cell_type": "markdown",
   "source": [
    "---\n",
    "# iBKH"
   ],
   "id": "dc5337a766dbb8e5"
  },
  {
   "metadata": {
    "ExecuteTime": {
     "end_time": "2025-07-05T01:37:35.475337Z",
     "start_time": "2025-07-05T01:37:32.470631Z"
    }
   },
   "cell_type": "code",
   "source": "from utils.datasets import IBKHDataset",
   "id": "189c3378918e0716",
   "outputs": [],
   "execution_count": 2
  },
  {
   "metadata": {
    "ExecuteTime": {
     "end_time": "2025-07-05T01:37:37.593184Z",
     "start_time": "2025-07-05T01:37:37.476946Z"
    }
   },
   "cell_type": "code",
   "source": [
    "# (IMPORTANT) Figure out why row2identity contains duplicate labels. Conclusion: vocab files contain icd_9 duplicates for FUCKING REASONS.sdjirngddhjtdhj\n",
    "\n",
    "try: # LOAD FROM CACHE\n",
    "    input_triplet = torch.load('inputs/KGE/input_triplet.pt', weights_only=False)\n",
    "    with open('inputs/GraphETM/embedding_map.pkl', 'rb') as f:\n",
    "        embedding_map = pickle.load(f)\n",
    "    print('Data loaded from cache...')\n",
    "\n",
    "except IOError: # ELSE GENERATE NEW DATASET\n",
    "    iKBH_dataset = IBKHDataset(data_dir='data/iBKH')\n",
    "    input_triplet = iKBH_dataset.build_data()\n",
    "    embedding_map = iKBH_dataset.row2entity # FIXME: ASAP Save indexes for: genes, diseases, and drugs (filtering by type)\n",
    "\n",
    "    # Inputs processing\n",
    "    torch.save(input_triplet, 'inputs/KGE/input_triplet.pt')              # Save triplets\n",
    "    torch.save(input_triplet.edge_index, 'inputs/GraphETM/edge_index.pt') # Save edge index\n",
    "    with open('inputs/GraphETM/embedding_map.pkl', 'wb') as f:            # Save embedding map\n",
    "        pickle.dump(embedding_map, f)"
   ],
   "id": "be1b739a9ad41fef",
   "outputs": [
    {
     "name": "stdout",
     "output_type": "stream",
     "text": [
      "Data loaded from cache...\n"
     ]
    }
   ],
   "execution_count": 3
  },
  {
   "metadata": {},
   "cell_type": "markdown",
   "source": [
    "---\n",
    "# EHR"
   ],
   "id": "d5f9ac991f1fbc8f"
  },
  {
   "metadata": {
    "ExecuteTime": {
     "end_time": "2025-06-26T19:43:33.192338Z",
     "start_time": "2025-06-26T19:43:33.190018Z"
    }
   },
   "cell_type": "code",
   "source": [
    "# DATA\n",
    "filepath = 'data/MIMIC-III'\n",
    "filepath = os.path.expanduser(filepath)"
   ],
   "id": "4bf2265143005b71",
   "outputs": [],
   "execution_count": 2
  },
  {
   "metadata": {
    "ExecuteTime": {
     "end_time": "2025-06-26T19:43:33.771738Z",
     "start_time": "2025-06-26T19:43:33.746118Z"
    }
   },
   "cell_type": "code",
   "source": [
    "icd_metadata_df = pd.read_csv(os.path.join(filepath, 'D_ICD_DIAGNOSES.csv'))\n",
    "icd_metadata_df"
   ],
   "id": "d080c06f41ef57f4",
   "outputs": [
    {
     "data": {
      "text/plain": [
       "       ROW_ID ICD9_CODE               SHORT_TITLE  \\\n",
       "0          55      0065      Amebic brain abscess   \n",
       "1          56      0066    Amebic skin ulceration   \n",
       "2          57      0068      Amebic infection NEC   \n",
       "3          58      0069             Amebiasis NOS   \n",
       "4          59      0070             Balantidiasis   \n",
       "...       ...       ...                       ...   \n",
       "14562   10053     V1368   Hx-cong malform-skin,ms   \n",
       "14563   11201     79508  Unsat cerv cytlogy smear   \n",
       "14564   11202     79509    Abn pap cervix HPV NEC   \n",
       "14565   11203     79510  Abn gland pap smr vagina   \n",
       "14566   11204     79511    Pap smear vag w ASC-US   \n",
       "\n",
       "                                              LONG_TITLE  \n",
       "0                                   Amebic brain abscess  \n",
       "1                                 Amebic skin ulceration  \n",
       "2                        Amebic infection of other sites  \n",
       "3                                 Amebiasis, unspecified  \n",
       "4                                          Balantidiasis  \n",
       "...                                                  ...  \n",
       "14562  Personal history of (corrected) congenital mal...  \n",
       "14563             Unsatisfactory cervical cytology smear  \n",
       "14564  Other abnormal Papanicolaou smear of cervix an...  \n",
       "14565    Abnormal glandular Papanicolaou smear of vagina  \n",
       "14566  Papanicolaou smear of vagina with atypical squ...  \n",
       "\n",
       "[14567 rows x 4 columns]"
      ],
      "text/html": [
       "<div>\n",
       "<style scoped>\n",
       "    .dataframe tbody tr th:only-of-type {\n",
       "        vertical-align: middle;\n",
       "    }\n",
       "\n",
       "    .dataframe tbody tr th {\n",
       "        vertical-align: top;\n",
       "    }\n",
       "\n",
       "    .dataframe thead th {\n",
       "        text-align: right;\n",
       "    }\n",
       "</style>\n",
       "<table border=\"1\" class=\"dataframe\">\n",
       "  <thead>\n",
       "    <tr style=\"text-align: right;\">\n",
       "      <th></th>\n",
       "      <th>ROW_ID</th>\n",
       "      <th>ICD9_CODE</th>\n",
       "      <th>SHORT_TITLE</th>\n",
       "      <th>LONG_TITLE</th>\n",
       "    </tr>\n",
       "  </thead>\n",
       "  <tbody>\n",
       "    <tr>\n",
       "      <th>0</th>\n",
       "      <td>55</td>\n",
       "      <td>0065</td>\n",
       "      <td>Amebic brain abscess</td>\n",
       "      <td>Amebic brain abscess</td>\n",
       "    </tr>\n",
       "    <tr>\n",
       "      <th>1</th>\n",
       "      <td>56</td>\n",
       "      <td>0066</td>\n",
       "      <td>Amebic skin ulceration</td>\n",
       "      <td>Amebic skin ulceration</td>\n",
       "    </tr>\n",
       "    <tr>\n",
       "      <th>2</th>\n",
       "      <td>57</td>\n",
       "      <td>0068</td>\n",
       "      <td>Amebic infection NEC</td>\n",
       "      <td>Amebic infection of other sites</td>\n",
       "    </tr>\n",
       "    <tr>\n",
       "      <th>3</th>\n",
       "      <td>58</td>\n",
       "      <td>0069</td>\n",
       "      <td>Amebiasis NOS</td>\n",
       "      <td>Amebiasis, unspecified</td>\n",
       "    </tr>\n",
       "    <tr>\n",
       "      <th>4</th>\n",
       "      <td>59</td>\n",
       "      <td>0070</td>\n",
       "      <td>Balantidiasis</td>\n",
       "      <td>Balantidiasis</td>\n",
       "    </tr>\n",
       "    <tr>\n",
       "      <th>...</th>\n",
       "      <td>...</td>\n",
       "      <td>...</td>\n",
       "      <td>...</td>\n",
       "      <td>...</td>\n",
       "    </tr>\n",
       "    <tr>\n",
       "      <th>14562</th>\n",
       "      <td>10053</td>\n",
       "      <td>V1368</td>\n",
       "      <td>Hx-cong malform-skin,ms</td>\n",
       "      <td>Personal history of (corrected) congenital mal...</td>\n",
       "    </tr>\n",
       "    <tr>\n",
       "      <th>14563</th>\n",
       "      <td>11201</td>\n",
       "      <td>79508</td>\n",
       "      <td>Unsat cerv cytlogy smear</td>\n",
       "      <td>Unsatisfactory cervical cytology smear</td>\n",
       "    </tr>\n",
       "    <tr>\n",
       "      <th>14564</th>\n",
       "      <td>11202</td>\n",
       "      <td>79509</td>\n",
       "      <td>Abn pap cervix HPV NEC</td>\n",
       "      <td>Other abnormal Papanicolaou smear of cervix an...</td>\n",
       "    </tr>\n",
       "    <tr>\n",
       "      <th>14565</th>\n",
       "      <td>11203</td>\n",
       "      <td>79510</td>\n",
       "      <td>Abn gland pap smr vagina</td>\n",
       "      <td>Abnormal glandular Papanicolaou smear of vagina</td>\n",
       "    </tr>\n",
       "    <tr>\n",
       "      <th>14566</th>\n",
       "      <td>11204</td>\n",
       "      <td>79511</td>\n",
       "      <td>Pap smear vag w ASC-US</td>\n",
       "      <td>Papanicolaou smear of vagina with atypical squ...</td>\n",
       "    </tr>\n",
       "  </tbody>\n",
       "</table>\n",
       "<p>14567 rows × 4 columns</p>\n",
       "</div>"
      ]
     },
     "execution_count": 3,
     "metadata": {},
     "output_type": "execute_result"
    }
   ],
   "execution_count": 3
  },
  {
   "metadata": {
    "ExecuteTime": {
     "end_time": "2025-06-26T20:23:00.649272Z",
     "start_time": "2025-06-26T20:23:00.244860Z"
    }
   },
   "cell_type": "code",
   "source": [
    "ehr_df = pd.read_csv(os.path.join(filepath, 'DIAGNOSES_ICD.csv'),\n",
    "                     usecols=['SUBJECT_ID','ICD9_CODE'],\n",
    "                     ).dropna(ignore_index=True)\n",
    "\n",
    "# Rename\n",
    "ehr_df.rename(columns={\n",
    "    'SUBJECT_ID': 'patient_id',\n",
    "    'ICD9_CODE': 'icd_9'\n",
    "}, inplace=True)\n",
    "\n",
    "# FUNCTION TO REPLACE 7100 (MIMIC-III) -> 710.0 (IBKH)\n",
    "def insert_dot_icd9(code):\n",
    "    digit_positions = [i for i, c in enumerate(code) if c.isdigit()]\n",
    "    if len(digit_positions) <= 3:\n",
    "        return code\n",
    "    dot_pos = digit_positions[2] + 1\n",
    "    return code[:dot_pos] + '.' + code[dot_pos:]\n",
    "\n",
    "ehr_df['icd_9'] = ehr_df['icd_9'].apply(insert_dot_icd9)"
   ],
   "id": "f8ad4b19924d238f",
   "outputs": [],
   "execution_count": 13
  },
  {
   "metadata": {
    "ExecuteTime": {
     "end_time": "2025-06-26T20:23:01.332572Z",
     "start_time": "2025-06-26T20:23:01.267897Z"
    }
   },
   "cell_type": "code",
   "source": [
    "# Isolate Immune conditions\n",
    "immune_icd9_codes = ['238.7', '279', '279.0', '279.1', '279.2', '279.3', '279.4', '288.0', '288.5', '288.6', '555.0', '556.0', '710.0', '714.0', '725', '995.2', '995.27', '995.3']\n",
    "has_immune = ehr_df['icd_9'].isin(immune_icd9_codes) # Boolean mask\n",
    "immune_patient_id = ehr_df.loc[has_immune, 'patient_id'].unique()\n",
    "\n",
    "ehr_df = ehr_df[ehr_df['patient_id'].isin(immune_patient_id)].reset_index(drop=True)\n",
    "\n",
    "# NOTE: 710.0 = Lupus for iBKH dataset\n",
    "# NOTE: 7100 = Lupus in MIMIC-III\n",
    "\n",
    "# Make into Bag-of-Words (BoW) # FIXME: Categorize by disease type.\n",
    "ehr_df = (ehr_df\n",
    "          .pivot_table(index='patient_id',\n",
    "                       columns='icd_9',\n",
    "                       aggfunc='size',\n",
    "                       fill_value=0)\n",
    "          .sort_index())\n",
    "# Helena and cam were here"
   ],
   "id": "995583544692d937",
   "outputs": [],
   "execution_count": 14
  },
  {
   "metadata": {
    "ExecuteTime": {
     "end_time": "2025-06-26T20:23:02.476176Z",
     "start_time": "2025-06-26T20:23:02.464162Z"
    }
   },
   "cell_type": "code",
   "source": [
    "# Re-order based on iBKH\n",
    "disease_order = [\n",
    "    name for typ, name in embedding_map\n",
    "    if typ == 'disease' and name in ehr_df.columns # IF disease name in (iBKH) AND disease name in (EHR)\n",
    "]\n",
    "ehr_df = ehr_df[disease_order]\n",
    "\n",
    "# Remove samples with 0s\n",
    "ehr_df = ehr_df.loc[ehr_df.sum(axis=1) > 0]    # Drop empty patients (all-zero rows)\n",
    "ehr_df = ehr_df.loc[:, ehr_df.sum(axis=0) > 0] # Drop empty diseases (all-zero columns)\n",
    "\n",
    "ehr_data = ehr_df                     # DataFrame Shape(patient_id, icd_9)\n",
    "X_ehr = torch.Tensor(ehr_data.values) # Tensor"
   ],
   "id": "52858b105c133e1c",
   "outputs": [],
   "execution_count": 15
  },
  {
   "metadata": {
    "ExecuteTime": {
     "end_time": "2025-06-26T20:23:09.165329Z",
     "start_time": "2025-06-26T20:23:09.102313Z"
    }
   },
   "cell_type": "code",
   "source": [
    "# Inputs processing\n",
    "input_filepath = 'inputs/GraphETM'\n",
    "\n",
    "torch.save(X_ehr, os.path.join(input_filepath, 'X_ehr.pt'))\n",
    "ehr_data.to_csv(os.path.join(input_filepath, 'input_EHR.csv'), index=False)\n",
    "\n",
    "# (Optional) Metadata\n",
    "icd_metadata_df.to_csv(os.path.join(input_filepath, 'optional/input_EHR_metadata.csv'), index=False) # TODO: These codes do not map with the update."
   ],
   "id": "b73ba6efacdc4d61",
   "outputs": [],
   "execution_count": 16
  },
  {
   "metadata": {
    "ExecuteTime": {
     "end_time": "2025-06-26T20:23:14.222652Z",
     "start_time": "2025-06-26T20:23:14.212160Z"
    }
   },
   "cell_type": "code",
   "source": [
    "# Save disease indices (for embeddings)\n",
    "id_embed_ehr = [\n",
    "    idx for idx, (typ, name) in enumerate(embedding_map)\n",
    "    if typ == 'disease' and name in ehr_df.columns # IF disease name in (iBKH) AND disease name in (EHR)\n",
    "]\n",
    "\n",
    "np.save(os.path.join(input_filepath, 'id_embed_ehr.npy'), np.array(id_embed_ehr))"
   ],
   "id": "c36ff38863314218",
   "outputs": [],
   "execution_count": 17
  },
  {
   "metadata": {},
   "cell_type": "markdown",
   "source": [
    "---\n",
    "# PBMC"
   ],
   "id": "112b786bd17ab99c"
  },
  {
   "metadata": {
    "ExecuteTime": {
     "end_time": "2025-07-05T01:37:42.541945Z",
     "start_time": "2025-07-05T01:37:42.539837Z"
    }
   },
   "cell_type": "code",
   "source": [
    "# DATA\n",
    "filepath = 'data/PBMC'\n",
    "filepath = os.path.expanduser(filepath)"
   ],
   "id": "a73467d4404445e4",
   "outputs": [],
   "execution_count": 4
  },
  {
   "metadata": {
    "ExecuteTime": {
     "end_time": "2025-07-05T01:37:43.782162Z",
     "start_time": "2025-07-05T01:37:43.328528Z"
    }
   },
   "cell_type": "code",
   "source": [
    "pbmc_df = mmread(os.path.join(filepath, 'matrix.mtx')).tocsc()\n",
    "pbmc_names = pd.read_csv(os.path.join(filepath, 'genes.tsv'), sep='\\t', header=None)\n",
    "pbmc_df = pd.DataFrame(pbmc_df.toarray().T, columns=pbmc_names[1])"
   ],
   "id": "409e1b17a7f3dcc0",
   "outputs": [],
   "execution_count": 5
  },
  {
   "metadata": {
    "ExecuteTime": {
     "end_time": "2025-07-05T01:37:46.572112Z",
     "start_time": "2025-07-05T01:37:44.972436Z"
    }
   },
   "cell_type": "code",
   "source": [
    "# Drop duplicate columns\n",
    "pbmc_df = pbmc_df.loc[:, ~pbmc_df.columns.duplicated()].copy()\n",
    "\n",
    "# Re-order based on iBKH\n",
    "gene_order = [\n",
    "    name for typ, name in embedding_map\n",
    "    if typ == 'gene' and name in pbmc_df.columns # IF gene name in (iBKH) AND gene name in (PBMC)\n",
    "]\n",
    "\n",
    "pbmc_df = pbmc_df[gene_order]"
   ],
   "id": "aa50a95d8d446989",
   "outputs": [],
   "execution_count": 6
  },
  {
   "metadata": {
    "ExecuteTime": {
     "end_time": "2025-07-05T01:37:49.324087Z",
     "start_time": "2025-07-05T01:37:48.386878Z"
    }
   },
   "cell_type": "code",
   "source": [
    "# Filter data\n",
    "pbmc_df = pbmc_df.loc[pbmc_df.sum(axis=1) > 0]    # Drop empty cells (all-zero rows)\n",
    "pbmc_df = pbmc_df.loc[:, pbmc_df.sum(axis=0) > 0] # Drop empty genes (all-zero columns)\n",
    "\n",
    "pbmc_adata = ad.AnnData(X=pbmc_df) # Anndata for scanpy\n",
    "\n",
    "sc.pp.filter_genes(pbmc_adata, min_cells=4) # Gene expressed in <3 cells\n",
    "\n",
    "sc.pp.log1p(pbmc_adata) # FIXME: Label cell types.\n",
    "sc.pp.highly_variable_genes(\n",
    "    pbmc_adata,\n",
    "    n_top_genes=1000,\n",
    "    subset=True, # Drop non-HVG columns in-place\n",
    ")\n",
    "\n",
    "pbmc_data = pd.DataFrame(data=pbmc_adata.X, columns=pbmc_adata.var.index) # Dataframe\n",
    "X_sc = torch.Tensor(pbmc_data.values)                                     # Tensor"
   ],
   "id": "ac95212342eefa56",
   "outputs": [
    {
     "name": "stderr",
     "output_type": "stream",
     "text": [
      "/Users/loicduchesne/Library/CloudStorage/OneDrive-Personal/Projects/Graph-scETM/.venv/lib/python3.13/site-packages/anndata/_core/aligned_df.py:68: ImplicitModificationWarning: Transforming to str index.\n",
      "  warnings.warn(\"Transforming to str index.\", ImplicitModificationWarning)\n"
     ]
    }
   ],
   "execution_count": 7
  },
  {
   "metadata": {
    "ExecuteTime": {
     "end_time": "2025-05-17T02:59:24.486826Z",
     "start_time": "2025-05-17T02:59:23.530779Z"
    }
   },
   "cell_type": "code",
   "source": [
    "# PBMC Input Processing\n",
    "input_filepath = 'inputs/GraphETM'\n",
    "\n",
    "torch.save(X_sc, os.path.join(input_filepath, 'X_sc.pt'))\n",
    "pbmc_data.to_csv(os.path.join(input_filepath, 'input_PBMC.csv'), index=False)"
   ],
   "id": "967ae0fc6704031c",
   "outputs": [],
   "execution_count": 40
  },
  {
   "metadata": {
    "ExecuteTime": {
     "end_time": "2025-05-17T02:59:26.542733Z",
     "start_time": "2025-05-17T02:59:26.504498Z"
    }
   },
   "cell_type": "code",
   "source": [
    "# Save gene indices (for embeddings)\n",
    "id_embed_sc = [\n",
    "    idx for idx, (typ, name) in enumerate(embedding_map)\n",
    "    if typ == 'gene' and name in pbmc_data.columns # IF gene name in (iBKH) AND gene name in (PBMC)\n",
    "]\n",
    "\n",
    "np.save(os.path.join(input_filepath, 'id_embed_sc.npy'), np.array(id_embed_sc))"
   ],
   "id": "eabb0526e09663c2",
   "outputs": [],
   "execution_count": 41
  },
  {
   "metadata": {},
   "cell_type": "code",
   "outputs": [],
   "execution_count": null,
   "source": "# DONE",
   "id": "cd17e7eb32e4e176"
  }
 ],
 "metadata": {
  "kernelspec": {
   "display_name": "Python 3",
   "language": "python",
   "name": "python3"
  },
  "language_info": {
   "codemirror_mode": {
    "name": "ipython",
    "version": 2
   },
   "file_extension": ".py",
   "mimetype": "text/x-python",
   "name": "python",
   "nbconvert_exporter": "python",
   "pygments_lexer": "ipython2",
   "version": "2.7.6"
  }
 },
 "nbformat": 4,
 "nbformat_minor": 5
}
