{
 "cells": [
  {
   "metadata": {},
   "cell_type": "markdown",
   "source": "# Data Processing",
   "id": "75852b8e51af2279"
  },
  {
   "metadata": {
    "ExecuteTime": {
     "end_time": "2025-07-10T20:53:28.838218Z",
     "start_time": "2025-07-10T20:53:25.631675Z"
    }
   },
   "cell_type": "code",
   "source": [
    "# Imports\n",
    "import os\n",
    "import pickle\n",
    "import torch\n",
    "import numpy as np\n",
    "import pandas as pd\n",
    "import anndata as ad\n",
    "import scanpy as sc\n",
    "import umap\n",
    "import plotly.express as px\n",
    "from scipy.io import mmread\n",
    "import celltypist"
   ],
   "id": "b594b9c64bb75b73",
   "outputs": [],
   "execution_count": 1
  },
  {
   "metadata": {},
   "cell_type": "markdown",
   "source": [
    "---\n",
    "# iBKH"
   ],
   "id": "dc5337a766dbb8e5"
  },
  {
   "metadata": {
    "ExecuteTime": {
     "end_time": "2025-07-10T20:53:30.551150Z",
     "start_time": "2025-07-10T20:53:29.750782Z"
    }
   },
   "cell_type": "code",
   "source": "from utils.datasets import IBKHDataset",
   "id": "189c3378918e0716",
   "outputs": [],
   "execution_count": 2
  },
  {
   "metadata": {
    "ExecuteTime": {
     "end_time": "2025-07-10T20:53:31.214769Z",
     "start_time": "2025-07-10T20:53:31.037999Z"
    }
   },
   "cell_type": "code",
   "source": [
    "try: # LOAD FROM CACHE\n",
    "    input_triplet = torch.load('inputs/KGE/input_triplet.pt', weights_only=False)\n",
    "    with open('inputs/GraphETM/embedding_map.pkl', 'rb') as f:\n",
    "        embedding_map = pickle.load(f)\n",
    "    print('Data loaded from cache...')\n",
    "\n",
    "except IOError: # ELSE GENERATE NEW DATASET\n",
    "    iKBH_dataset = IBKHDataset(data_dir='data/iBKH')\n",
    "    input_triplet = iKBH_dataset.build_data()\n",
    "    embedding_map = iKBH_dataset.row2entity\n",
    "\n",
    "    # Inputs processing\n",
    "    torch.save(input_triplet, 'inputs/KGE/input_triplet.pt')              # Save triplets\n",
    "    torch.save(input_triplet.edge_index, 'inputs/GraphETM/edge_index.pt') # Save edge index\n",
    "    with open('inputs/GraphETM/embedding_map.pkl', 'wb') as f:            # Save embedding map\n",
    "        pickle.dump(embedding_map, f)"
   ],
   "id": "be1b739a9ad41fef",
   "outputs": [
    {
     "name": "stdout",
     "output_type": "stream",
     "text": [
      "Data loaded from cache...\n"
     ]
    }
   ],
   "execution_count": 3
  },
  {
   "metadata": {},
   "cell_type": "markdown",
   "source": [
    "---\n",
    "# Drugs"
   ],
   "id": "b79549c90f9ad1c3"
  },
  {
   "metadata": {
    "ExecuteTime": {
     "end_time": "2025-07-10T20:53:32.505675Z",
     "start_time": "2025-07-10T20:53:32.495889Z"
    }
   },
   "cell_type": "code",
   "source": [
    "# Inputs processing\n",
    "input_filepath = 'inputs/GraphETM'\n",
    "\n",
    "# Save (all) drug indices (for embeddings)\n",
    "id_embed_drugs = [\n",
    "    idx for idx, (typ, name) in enumerate(embedding_map)\n",
    "    if typ == 'drug'  # All drug entities from iBKH\n",
    "]\n",
    "\n",
    "np.save(os.path.join(input_filepath, 'id_embed_drugs.npy'), np.array(id_embed_drugs))"
   ],
   "id": "db5a4d6d3cf33bf5",
   "outputs": [],
   "execution_count": 4
  },
  {
   "metadata": {},
   "cell_type": "markdown",
   "source": [
    "---\n",
    "# Diseases (EHR)"
   ],
   "id": "d5f9ac991f1fbc8f"
  },
  {
   "metadata": {
    "ExecuteTime": {
     "end_time": "2025-07-10T20:53:33.282886Z",
     "start_time": "2025-07-10T20:53:33.280610Z"
    }
   },
   "cell_type": "code",
   "source": [
    "# DATA\n",
    "filepath = 'data/MIMIC-III'\n",
    "filepath = os.path.expanduser(filepath)"
   ],
   "id": "4bf2265143005b71",
   "outputs": [],
   "execution_count": 5
  },
  {
   "metadata": {
    "ExecuteTime": {
     "end_time": "2025-07-10T20:53:33.860642Z",
     "start_time": "2025-07-10T20:53:33.857736Z"
    }
   },
   "cell_type": "code",
   "source": [
    "# FUNCTION TO REPLACE 7100 (MIMIC-III) -> 710.0 (IBKH)\n",
    "def insert_dot_icd9(code):\n",
    "    digit_positions = [i for i, c in enumerate(code) if c.isdigit()]\n",
    "    if len(digit_positions) <= 3:\n",
    "        return code\n",
    "    dot_pos = digit_positions[2] + 1\n",
    "    return code[:dot_pos] + '.' + code[dot_pos:]"
   ],
   "id": "40cd27dfc81a666d",
   "outputs": [],
   "execution_count": 6
  },
  {
   "metadata": {
    "ExecuteTime": {
     "end_time": "2025-07-10T20:53:34.500925Z",
     "start_time": "2025-07-10T20:53:34.461487Z"
    }
   },
   "cell_type": "code",
   "source": [
    "icd_metadata_df = pd.read_csv(os.path.join(filepath, 'D_ICD_DIAGNOSES.csv'), usecols=['ICD9_CODE', 'SHORT_TITLE', 'LONG_TITLE'])\n",
    "icd_metadata_df.rename(columns={\n",
    "    'ICD9_CODE': 'icd_9',\n",
    "    'SHORT_TITLE': 'short_title',\n",
    "    'LONG_TITLE': 'long_title',\n",
    "}, inplace=True)\n",
    "\n",
    "icd_metadata_df['icd_9'] = icd_metadata_df['icd_9'].apply(insert_dot_icd9)\n",
    "icd_metadata_df"
   ],
   "id": "d080c06f41ef57f4",
   "outputs": [
    {
     "data": {
      "text/plain": [
       "        icd_9               short_title  \\\n",
       "0       006.5      Amebic brain abscess   \n",
       "1       006.6    Amebic skin ulceration   \n",
       "2       006.8      Amebic infection NEC   \n",
       "3       006.9             Amebiasis NOS   \n",
       "4       007.0             Balantidiasis   \n",
       "...       ...                       ...   \n",
       "14562  V136.8   Hx-cong malform-skin,ms   \n",
       "14563  795.08  Unsat cerv cytlogy smear   \n",
       "14564  795.09    Abn pap cervix HPV NEC   \n",
       "14565  795.10  Abn gland pap smr vagina   \n",
       "14566  795.11    Pap smear vag w ASC-US   \n",
       "\n",
       "                                              long_title  \n",
       "0                                   Amebic brain abscess  \n",
       "1                                 Amebic skin ulceration  \n",
       "2                        Amebic infection of other sites  \n",
       "3                                 Amebiasis, unspecified  \n",
       "4                                          Balantidiasis  \n",
       "...                                                  ...  \n",
       "14562  Personal history of (corrected) congenital mal...  \n",
       "14563             Unsatisfactory cervical cytology smear  \n",
       "14564  Other abnormal Papanicolaou smear of cervix an...  \n",
       "14565    Abnormal glandular Papanicolaou smear of vagina  \n",
       "14566  Papanicolaou smear of vagina with atypical squ...  \n",
       "\n",
       "[14567 rows x 3 columns]"
      ],
      "text/html": [
       "<div>\n",
       "<style scoped>\n",
       "    .dataframe tbody tr th:only-of-type {\n",
       "        vertical-align: middle;\n",
       "    }\n",
       "\n",
       "    .dataframe tbody tr th {\n",
       "        vertical-align: top;\n",
       "    }\n",
       "\n",
       "    .dataframe thead th {\n",
       "        text-align: right;\n",
       "    }\n",
       "</style>\n",
       "<table border=\"1\" class=\"dataframe\">\n",
       "  <thead>\n",
       "    <tr style=\"text-align: right;\">\n",
       "      <th></th>\n",
       "      <th>icd_9</th>\n",
       "      <th>short_title</th>\n",
       "      <th>long_title</th>\n",
       "    </tr>\n",
       "  </thead>\n",
       "  <tbody>\n",
       "    <tr>\n",
       "      <th>0</th>\n",
       "      <td>006.5</td>\n",
       "      <td>Amebic brain abscess</td>\n",
       "      <td>Amebic brain abscess</td>\n",
       "    </tr>\n",
       "    <tr>\n",
       "      <th>1</th>\n",
       "      <td>006.6</td>\n",
       "      <td>Amebic skin ulceration</td>\n",
       "      <td>Amebic skin ulceration</td>\n",
       "    </tr>\n",
       "    <tr>\n",
       "      <th>2</th>\n",
       "      <td>006.8</td>\n",
       "      <td>Amebic infection NEC</td>\n",
       "      <td>Amebic infection of other sites</td>\n",
       "    </tr>\n",
       "    <tr>\n",
       "      <th>3</th>\n",
       "      <td>006.9</td>\n",
       "      <td>Amebiasis NOS</td>\n",
       "      <td>Amebiasis, unspecified</td>\n",
       "    </tr>\n",
       "    <tr>\n",
       "      <th>4</th>\n",
       "      <td>007.0</td>\n",
       "      <td>Balantidiasis</td>\n",
       "      <td>Balantidiasis</td>\n",
       "    </tr>\n",
       "    <tr>\n",
       "      <th>...</th>\n",
       "      <td>...</td>\n",
       "      <td>...</td>\n",
       "      <td>...</td>\n",
       "    </tr>\n",
       "    <tr>\n",
       "      <th>14562</th>\n",
       "      <td>V136.8</td>\n",
       "      <td>Hx-cong malform-skin,ms</td>\n",
       "      <td>Personal history of (corrected) congenital mal...</td>\n",
       "    </tr>\n",
       "    <tr>\n",
       "      <th>14563</th>\n",
       "      <td>795.08</td>\n",
       "      <td>Unsat cerv cytlogy smear</td>\n",
       "      <td>Unsatisfactory cervical cytology smear</td>\n",
       "    </tr>\n",
       "    <tr>\n",
       "      <th>14564</th>\n",
       "      <td>795.09</td>\n",
       "      <td>Abn pap cervix HPV NEC</td>\n",
       "      <td>Other abnormal Papanicolaou smear of cervix an...</td>\n",
       "    </tr>\n",
       "    <tr>\n",
       "      <th>14565</th>\n",
       "      <td>795.10</td>\n",
       "      <td>Abn gland pap smr vagina</td>\n",
       "      <td>Abnormal glandular Papanicolaou smear of vagina</td>\n",
       "    </tr>\n",
       "    <tr>\n",
       "      <th>14566</th>\n",
       "      <td>795.11</td>\n",
       "      <td>Pap smear vag w ASC-US</td>\n",
       "      <td>Papanicolaou smear of vagina with atypical squ...</td>\n",
       "    </tr>\n",
       "  </tbody>\n",
       "</table>\n",
       "<p>14567 rows × 3 columns</p>\n",
       "</div>"
      ]
     },
     "execution_count": 7,
     "metadata": {},
     "output_type": "execute_result"
    }
   ],
   "execution_count": 7
  },
  {
   "metadata": {
    "ExecuteTime": {
     "end_time": "2025-07-10T20:53:35.814195Z",
     "start_time": "2025-07-10T20:53:35.511599Z"
    }
   },
   "cell_type": "code",
   "source": [
    "ehr_df = pd.read_csv(os.path.join(filepath, 'DIAGNOSES_ICD.csv'), usecols=['SUBJECT_ID', 'ICD9_CODE']).dropna(ignore_index=True)\n",
    "ehr_df.rename(columns={\n",
    "    'SUBJECT_ID': 'patient_id',\n",
    "    'ICD9_CODE': 'icd_9'\n",
    "}, inplace=True)\n",
    "\n",
    "ehr_df['icd_9'] = ehr_df['icd_9'].apply(insert_dot_icd9)"
   ],
   "id": "f8ad4b19924d238f",
   "outputs": [],
   "execution_count": 8
  },
  {
   "metadata": {
    "ExecuteTime": {
     "end_time": "2025-07-10T20:53:36.465333Z",
     "start_time": "2025-07-10T20:53:36.351093Z"
    }
   },
   "cell_type": "code",
   "source": [
    "# Isolate Immune conditions\n",
    "type2codes = {\n",
    "    'autoimmune': ['250.01', '250.03', '279.4', '340', '446.0', '446.1', '446.4', '446.5', '446.7', '710.0', '710.1', '710.2', '714.0'],\n",
    "    'immunodeficiency': ['042', '043', '279', '279.0', '279.1', '279.2', '279.3'],\n",
    "    'allergy': ['995.27', '995.3'],\n",
    "    'chronic_inflammatory': ['555.0', '555.1', '555.2', '555.9', '556.0'],\n",
    "    'wbc_disorder': ['288.0', '288.5', '288.6'],\n",
    "    'other': ['238.4', '238.7', '725']}\n",
    "\n",
    "codes2type = {item: key for key, values in type2codes.items() for item in values}\n",
    "immune_icd9_codes = [item for sublist in list(type2codes.values()) for item in sublist]\n",
    "\n",
    "has_immune = ehr_df['icd_9'].isin(immune_icd9_codes) # Boolean mask\n",
    "immune_patient_id = ehr_df.loc[has_immune, 'patient_id'].unique()\n",
    "\n",
    "ehr_df = ehr_df[ehr_df['patient_id'].isin(immune_patient_id)].reset_index(drop=True)\n",
    "\n",
    "# NOTE: 710.0 = Lupus for iBKH dataset\n",
    "# NOTE: 7100 = Lupus in MIMIC-III\n",
    "\n",
    "# Make into Bag-of-Words (BoW) # FIXME: Categorize by disease type.\n",
    "ehr_df = (ehr_df\n",
    "          .pivot_table(index='patient_id',\n",
    "                       columns='icd_9',\n",
    "                       aggfunc='size',\n",
    "                       fill_value=0)\n",
    "          .sort_index())\n",
    "# Helena and cam were here"
   ],
   "id": "995583544692d937",
   "outputs": [],
   "execution_count": 9
  },
  {
   "metadata": {
    "ExecuteTime": {
     "end_time": "2025-07-10T20:53:39.067598Z",
     "start_time": "2025-07-10T20:53:38.803616Z"
    }
   },
   "cell_type": "code",
   "source": [
    "# Assign patient_ids to primary disease type\n",
    "def assign_primary_disease_type(patient_row):\n",
    "    patient_codes = patient_row[patient_row > 0].index.tolist()\n",
    "    patient_types = [codes2type.get(code, 'unknown') for code in patient_codes if code in codes2type]\n",
    "\n",
    "    if not patient_types:\n",
    "        return 'unknown'\n",
    "\n",
    "    # Count types and return most common\n",
    "    type_counts = pd.Series(patient_types).value_counts()\n",
    "    return type_counts.index[0]\n",
    "disease_types = ehr_df.apply(assign_primary_disease_type, axis=1)\n",
    "\n",
    "ehr_df = ehr_df.set_index([ehr_df.index, disease_types])"
   ],
   "id": "664beb95e2442350",
   "outputs": [],
   "execution_count": 10
  },
  {
   "metadata": {
    "ExecuteTime": {
     "end_time": "2025-07-10T20:53:39.685427Z",
     "start_time": "2025-07-10T20:53:39.673120Z"
    }
   },
   "cell_type": "code",
   "source": [
    "# Re-order based on iBKH\n",
    "disease_order = [\n",
    "    name for typ, name in embedding_map\n",
    "    if typ == 'disease' and name in ehr_df.columns # IF disease name in (iBKH) AND disease name in (EHR)\n",
    "]\n",
    "ehr_df = ehr_df[disease_order]\n",
    "\n",
    "# Remove samples with 0s\n",
    "ehr_df = ehr_df.loc[:, ehr_df.sum(axis=0) > 0] # Drop empty diseases (all-zero columns)\n",
    "ehr_df = ehr_df.loc[ehr_df.sum(axis=1) > 0]    # Drop empty patients (all-zero rows)\n",
    "\n",
    "ehr_data = ehr_df                     # DataFrame Shape(patient, disease)\n",
    "X_ehr = torch.Tensor(ehr_data.values) # Tensor"
   ],
   "id": "52858b105c133e1c",
   "outputs": [],
   "execution_count": 11
  },
  {
   "metadata": {
    "ExecuteTime": {
     "end_time": "2025-07-10T20:53:47.873866Z",
     "start_time": "2025-07-10T20:53:47.871393Z"
    }
   },
   "cell_type": "code",
   "source": [
    "# Get Labels\n",
    "ehr_labels_num = ehr_df.index.codes[1]                     # Num. labels\n",
    "ehr_labels_str = ehr_df.index.get_level_values(1).tolist() # Str. labels\n",
    "ehr_categories = ehr_df.index.levels[1].tolist()           # Category names"
   ],
   "id": "a3e8b00ad729ea9f",
   "outputs": [],
   "execution_count": 12
  },
  {
   "metadata": {
    "ExecuteTime": {
     "end_time": "2025-07-10T20:53:49.572371Z",
     "start_time": "2025-07-10T20:53:49.567213Z"
    }
   },
   "cell_type": "code",
   "source": [
    "ibkh_diseases = {name for typ, name in embedding_map if typ == 'disease'}\n",
    "immune_in_ibkh = set(immune_icd9_codes) & ibkh_diseases\n",
    "immune_missing = set(immune_icd9_codes) - ibkh_diseases\n",
    "\n",
    "print(f'Immune diseases in iBKH: {len(immune_in_ibkh)}/{len(immune_icd9_codes)}')\n",
    "print(f'Missing immune diseases: {list(immune_missing)}')"
   ],
   "id": "96707f14540df8b7",
   "outputs": [
    {
     "name": "stdout",
     "output_type": "stream",
     "text": [
      "Immune diseases in iBKH: 15/33\n",
      "Missing immune diseases: ['555.0', '279.4', '238.7', '995.27', '288.6', '288.5', '995.3', '043', '556.0', '250.01', '279', '042', '279.0', '250.03', '279.1', '555.2', '555.9', '238.4']\n"
     ]
    }
   ],
   "execution_count": 13
  },
  {
   "metadata": {
    "ExecuteTime": {
     "end_time": "2025-07-10T20:53:51.051987Z",
     "start_time": "2025-07-10T20:53:50.953170Z"
    }
   },
   "cell_type": "code",
   "source": [
    "# Inputs processing\n",
    "input_filepath = 'inputs/GraphETM'\n",
    "\n",
    "torch.save(X_ehr, os.path.join(input_filepath, 'X_ehr.pt'))\n",
    "ehr_data.to_csv(os.path.join(input_filepath, 'optional/input_EHR.csv'), index=False)\n",
    "\n",
    "# Labels\n",
    "np.save(os.path.join(input_filepath, 'labels/ehr_labels_num.npy'), ehr_labels_num)\n",
    "np.save(os.path.join(input_filepath, 'labels/ehr_labels_str.npy'), np.array(ehr_labels_str))\n",
    "np.save(os.path.join(input_filepath, 'labels/ehr_categories.npy'), np.array(ehr_categories))\n",
    "\n",
    "# (Optional) Metadata\n",
    "icd_metadata_df.to_csv(os.path.join(input_filepath, 'optional/input_EHR_metadata.csv'), index=False)"
   ],
   "id": "b73ba6efacdc4d61",
   "outputs": [],
   "execution_count": 14
  },
  {
   "metadata": {
    "ExecuteTime": {
     "end_time": "2025-07-10T20:53:52.387729Z",
     "start_time": "2025-07-10T20:53:52.378642Z"
    }
   },
   "cell_type": "code",
   "source": [
    "# Save disease indices (for embeddings)\n",
    "id_embed_ehr = [\n",
    "    idx for idx, (typ, name) in enumerate(embedding_map)\n",
    "    if typ == 'disease' and name in ehr_df.columns # IF disease name in (iBKH) AND disease name in (EHR)\n",
    "]\n",
    "\n",
    "np.save(os.path.join(input_filepath, 'id_embed_ehr.npy'), np.array(id_embed_ehr))"
   ],
   "id": "c36ff38863314218",
   "outputs": [],
   "execution_count": 15
  },
  {
   "metadata": {
    "ExecuteTime": {
     "end_time": "2025-07-10T19:22:57.463958Z",
     "start_time": "2025-07-10T19:22:49.570460Z"
    }
   },
   "cell_type": "code",
   "source": [
    "# UMAP clustering\n",
    "X_umap_ehr = umap.UMAP(random_state=1).fit_transform(ehr_data.values)\n",
    "umap_ehr_df = pd.DataFrame({'x': X_umap_ehr[:, 0], 'y': X_umap_ehr[:, 1], 'disease_types': ehr_df.index.get_level_values(1).tolist()})\n",
    "\n",
    "# Plot categories\n",
    "fig = px.scatter(umap_ehr_df, x='x', y='y', color='disease_types', template='ggplot2', width=1100, height=600,\n",
    "                 title='EHR Immune Disease Types Clustering')\n",
    "fig.update_traces(marker=dict(size=4))\n",
    "fig.show()"
   ],
   "id": "a76443dbfa2d1ae8",
   "outputs": [
    {
     "data": {
      "application/vnd.plotly.v1+json": {
       "data": [
        {
         "hovertemplate": "disease_types=immunodeficiency<br>x=%{x}<br>y=%{y}<extra></extra>",
         "legendgroup": "immunodeficiency",
         "marker": {
          "color": "#F8766D",
          "symbol": "circle",
          "size": 4
         },
         "mode": "markers",
         "name": "immunodeficiency",
         "showlegend": true,
         "x": {
          "dtype": "f4",
          "bdata": "e3ncQRZz6EFmTNpBghXHQfW+5kElhddBX3TcQTB05kHJPeJB/A3WQb6F1kEevudBOnPcQTQg2kGG09VBQkbkQY1+1EEp59FB+7PkQUvo1EGzKOZBKQPfQUIG00FSMOBBngTTQUxcwkH6SNVBYPvnQUf24UH5QMxBLMjZQQI76EHO79JBAXXaQb0h00EYjdpBrHrdQV6u4UEGBtFBzxDTQZPm0EGputlBXjraQSY330GB5OhB6ULmQYVi3UE+SdpBI3TmQTok5UE1bdJByi/KQT2J4EEK7eVBi6HnQbR14kFWzt5BjsPSQacP4UGf9cpB1z7eQV4v50EJfddBd3nVQV725EH8NtdB+HnWQbdZ4UH9SudBGWfOQfU/0kGPcNxBSLnYQeu61EGy0+ZBO7nVQeix0kE3T+ZByjvjQYcH2kG7ENRBcF7aQbMo5EF44+ZBKN/AQUzv3UFo6MpBtW7iQcq810GrF95BACDmQRaJ5UGd19dBQ4PgQRRd5kEwx+RBdRbeQZGN40Fgt+BB8F7IQXFR00HR/tVBGtfZQVJZ5kE7IOVBroLTQQo91kFwRN9BdWLUQZRc0kEg0+BBjBrmQQs93kH2q+FB8xTaQQiW3kHlMelBqkfTQfY+yEG5PNxBP9/SQXM54kFTiMtBJxPWQYHA1UFHTNVB6O/WQcRJ00FFItdBe53mQSkW40Ed59NBpQTgQcTJ3EFkSuZBfbzSQS2450Gro9VBxMjGQW0MyUHmf+dBfnbmQQMJ2UE6E9lBVevYQWCY50GkntJBJOzlQUYP6EE+RONBs9jUQTOP5EFmPNdBXyTnQZSH50EzANlBW5/gQU2600FprOJBNvbkQW1j1kHA8NZBxTrmQZB0zUHIV9dBdfXfQc7h3UF5eN5BH9bZQbbD00Fj9MBBW4HbQZqt2EEkGN9BklnnQQ0Hy0HRe99B0i7pQYsO1kGc+OZB2GHUQXnk5UEGJtxB/QfaQfI730GPJNNBoTvSQT2F4UH3/uVBmTHKQX3+00GXhOBBLK/TQf2f4kH6Tt1BFGTKQVUJ4UGR0ORBgujUQdnh40ETqtNB9unoQTIj6EGyveJBlF3bQXWl1UGA1eZBAqzRQTld50HQ1uNB22znQe0r5UGeD+BBjAXgQa9z2kEkLuhB3BDiQRIr4EFsbr9BRAHkQWpo2kG+M+dB8S/jQWoU40HISNVBhbLXQVVo5kHf/uJBxDjkQe3Q5EFm38lBstnmQd1/40EKeN1BVrzVQarM10HfHNJBMzngQYw+20FDH+lBw23mQR9U50GpCuVBLhTcQU1v0kGZn91BojLKQbYJz0ElieFBsOHmQQnx3EFU8N9BqTrgQbyo2EGq8ONBc8C+QUFn50FGB9dBFQrdQRQa2kGRD8tBQOLlQVv23EH0hudBH8zSQZkx4UEyetxBQ0vQQahJ1UERzstB4AzaQSCC50HC5+BBXZTfQZL86EF/7t1BymXnQUmx4EEMTtJBQKviQbWC5UE0vdZB3j3jQYna4UEO8OdBiKzqQZhQ1EFnv9pBYKneQQRh3UEys9tBmaLcQcg44kGx8dNBDlPUQVU1w0E8QN1BVRbXQQQJ3kG1fuBBqZbcQcFt4EGflOdBtlXhQTOV00GP79ZB/P7QQYA540FZ/N1B2/XPQYUR2kHIMN1BcP/dQe3S4kGUztNBSdPnQUwH4EE2QdNBEyPUQVIW6EHLAtZBQSjlQXz03EFYz9pB"
         },
         "xaxis": "x",
         "y": {
          "dtype": "f4",
          "bdata": "ojy8wIMfAMFREbbAvPfCwMbGc8Bu2qnAZTi8wBUZT8BB5LvAmdCMwCp2CMHeNgvB8SO8wFR+scCEQrfAhXEKwbhguMAC8a3AkN6uwE/HBsGK0ZnAKGuwwM2vrsDCeLDAYYKowMIwgsAo5I3AuCmbwRBBt8Ddt5zACKu4wIzgC8HQJ63AZoWqwG0qr8C6UxzB6/kiwS/LAsH8RgTB4gaxwLxvA8FSiYu/f/GwwAK3icBA5nvAmDmawIeEIsFmmbXA7t92wJD81sBCya7ANk/MwJrJgsAIcnvAKqQLwSfwEsEx3LLAITOuwBLiEsFNb73AaoqHwOPtccDObavAsqSqwB3Lj8C8d7LAgN3UwAA3FMF8qmvAocADwf1/r8BJNL3AezOewL0pjcCSpHHAYtO2wG7TsMADy03AX8cKwQ2LKMET86TAq1yvv7/2FsHTh8PABptZwN59IcEgi8XABD+dwF4DOcEHAQHB+wF0wA0HlMAwTofA5cmxwBMs5cDuksPAnESnwOM1xcCtMAjBt//CwA80jcDyfa3A88m3wNXXxMAwMnjAkwCmwOPEycBata/AduixwELMq8Bc4xXBxaaYwIMnhcAeohPBUK2Vv1bPoMBsBArBksyswBNxwsC8V7vAQ8iiwA7PFMGVk7LAom2MwI3dpcDAXtfAXbvWwAOHpsDOY9+/en5uwAj1AMEUtKPAN/ytwGpGI8Geb4nABH60wBipCsEP46bA9yfCwJ4+xsBfInTAFtvlwAKWtMAktdfA68I6wbokC8H8kazAjGAWwXx5DMEFnsPAOB2nwBVLy8BVhYnAT8pzwIoGDME7TNjA6mjIwCGQtMAN9cHAyPDgwDC0xsAlepDAn7uKwPK54cBqnHm/9GO/wDbXtMC0/MvAyfavwFSUo8ABtlzA7pWIwDJb4MCe1d7As8YGwb0+lsDDG87As5EIwTM/jcA4o3fAe/K5wM5x4MAX3bvABaG2wBf+g8AbSYfAK9aHwBG7AcFy4YvApcPQwN0TsMBGRLDA6QuxwCiincAHLCTBdynFwE8dEsHL85TA3+SKwCNax8DhaofAmZsKwccbC8G7tpnA9OGGwPRijMAN/XvAFsLTwEcmcMDzvrLAAj0HwRnWqMCT5rLAM7O0wJMwqcBjGwzBjZmuwA1Zr8DPWk7AdNmzwGpxscC0m3rAvOLEwMFyEsHXwanAc9CxwL0Hg8AIdsXANryzwLdOq8BbvszAdJF0wEDys8DVggTBH2SOwAf+CcFY+a7AZIKNwa+hI8Fo3g3BWEoNwSFJCMECEhfBk1iGwD3Pr8Dn8SHB9PLJwKNku8CGzBPBMSx2wONxvMDjQcrAA0e2wIFwtMAbdbTA4zGpwPNvcMBGWa7Az4UjwYpR/cChxsvATyiNwEpnI8Gt1HDAZdSswGQlFcENkCPBIVIhwYHmjcAVetDAL0i5wA7QhMDaDa/AnaMIwXlOmsEX4yPB2H8EwVgTE8HVbanAK+AAwSMJc8D2mLTAPp4RwUtRE8Ex1QrBR/QFwQ0Gq8Cnp7LA9bCIwNOyt8ArOibB5Nq8wDyDEsEGUP3Ap9KUwCyGtMAWVcHAOMqrwJFDgsByOsjAMhK8wMn0sMCKcHLAyc0QwYF7pcBHrY/AEaW0wLGQgsHxcSLB/x4hwUh+KMEDi7nA+Y6JwIVcEcH264fANDlywJVkmcBWea7A25GwwKcDDsFsg6rA9Ou6wJ3Bs8CJUbXA"
         },
         "yaxis": "y",
         "type": "scattergl"
        },
        {
         "hovertemplate": "disease_types=wbc_disorder<br>x=%{x}<br>y=%{y}<extra></extra>",
         "legendgroup": "wbc_disorder",
         "marker": {
          "color": "#A3A500",
          "symbol": "circle",
          "size": 4
         },
         "mode": "markers",
         "name": "wbc_disorder",
         "showlegend": true,
         "x": {
          "dtype": "f4",
          "bdata": "b7zmQZPE5UFpRupBnXzYQUvx0UGZ3dhBDmXYQc+r10H0+dZBSXDXQV6M10GwoddBEZfWQRwt1kEe8uVB1sHXQQ0a10GE1ddBNMTXQdx05kEpqtVBDwvXQZkc10HMWNdBvMfYQWVw10F5O8BBK2XYQe+J10FDpsZBibHCQRj51kHcxthBfaPVQSpg10HG3M9BCcTmQZ4o10F2jtZBJ1HlQUxo5kFM5NdBbRrXQWiW10HzCthB9ODWQfd55kFthtdBoDvYQa/M1kH/JthBaBHYQYO+2UER7tZBrmXmQXX61kEg+NhBZm/XQUG010EJEuZBvwTWQcEqzUEqkddB8z7XQbC110G6SOZBJafXQTDevEGHOcBBrpC+QXbKvEHZiddB0inXQZrT50HGCNhB9srXQVnX10F24NlBWcvNQUt710EAX+dB/O3WQRDt10HFL9hB39TXQbnc1kH1ENdBfm3VQRxm5kH5U+ZBHxDXQWZs1EFJBddBtZPjQXHk2EEGnuVB8znXQeu710ErLtdBXq3WQUbK2UFcPddBiL3WQQs85kHxU9dBo6TVQf1Y5kFPIdZBUQ7YQeLa1kEmTthB1RLXQYIW5kEqbNVB9GTmQS+61kF8yNVBJgvYQZrA1kGPMddBXO/XQZKd10HJSOZByAvYQcgM10EPktVBl3LbQQ=="
         },
         "xaxis": "x",
         "y": {
          "dtype": "f4",
          "bdata": "mmxmwA0mScC6sC7ByNaXvxDvh8BO5pu/lPSBv+gDhr/qPui//EmMvxwGgr8S2YC/hdj0v/PV9b+kD1XAowh4v5tC4r/XnIy/BHmJv5MXUcCy7ba/TRGKv8wl4L99Noi/6A2mv+zxg78n4YnAlueKvx+Bgr/DLIHAAyC2wKWs578hwIu/Z++zv29Si79zvv/AwyLFwBkUfr8DqWy/QRVWwBBzSsAovnS/Okl2vzxher9cOXa/7+gCwHjJTsBhV3i/lxyDv2KrIsA37rC/7qiFvzJ7mr+s4eS/MhBPwM5m4798PdO/lXDmv9X+kL9XwUbAGPjsvwip/8BihHW/KWuNv7Uhd78r00rAuj96vzrum8BepIHA0c+LwJiFmcD0IXa/VGDevwph98AEsYC/j52MvwqPab8jvYK/89KAwDirfL+aIFrA5gPovzPsfL92vWe/nfaRvxOl7L8YGeW/10uzv0veS8D1y03ApoPkv/jru7+vznC/bED/wOReXb9mFUvAX0jhv/qTfL/RT46/EjVsv5SToL+02om/Uu/xv/tXSMBG9tq/xeMSwN1zTsCS166/yoqEv98YBsCFZIC/8Ijlv1W3RsBHJPe/3MJJwAVg47+UCPa/BbmBvxPe6b8+8eG/F/+Fv+7Afr+A4UvApPWAv+lcdL8DrwPAXM8YwQ=="
         },
         "yaxis": "y",
         "type": "scattergl"
        },
        {
         "hovertemplate": "disease_types=autoimmune<br>x=%{x}<br>y=%{y}<extra></extra>",
         "legendgroup": "autoimmune",
         "marker": {
          "color": "#00BF7D",
          "symbol": "circle",
          "size": 4
         },
         "mode": "markers",
         "name": "autoimmune",
         "showlegend": true,
         "x": {
          "dtype": "f4",
          "bdata": "YXDhQdvxw0FatjJCV/LjQRTrnEGGiuRB/EvjQRvO50EXI+RBWObjQXmdnkGoHN9B63LGQarE6UEJt8RBsx/oQVl/5EHx6uZBeQE2QiyW40FICt1BPqTaQY16nkF53OhB53fOQaBY2UHuaeNBeEbiQfa430HitsNBZ9zWQesO0kEEhOJBYvPnQa70NUI9qtxBuRfdQR/n40HaGcRBo2c1QktgzEEACMJB6LHXQbzq0EFf5DVCeMzYQbwk4UEJ7zFCUyHkQSVCwkGi08VBpsM0QoKooEGMHDFC/xDfQWW440GurtFByqbbQaui6EE+lcNBfnrnQW2Q4UHWNcxBC9jLQdwKw0EMktlBqILeQe/T6EH/zstBEQHcQS+z3EEgtsJBeMDYQexk6kGlEsFBmlwzQkdy5UFFyONB0M7nQRJnxEEgV8xB2UfgQaCzw0GRhthB7DfkQZ0EwUHJdeVBeLDjQZbr40HEANRBVbsxQmWgx0FOGp1BfGPWQQp/MUIxGORB1urgQXiwpUGhbORBclviQeEqMELu4shB6vjLQdOw2UHLOuRB/47hQfKC1EHkqstB6lDVQfuAn0HQENFBeJTkQX9a2UGMoORBGrDFQYIYMkJIGeRB5magQX0D5EHiAOpBb7I1QkKdoEEcMelBDJHXQfG8v0H0kC9CRK3XQdmbwUHC68JBgUeiQYNuNkKfwt5Br0XXQVc/50GMusRBh0jkQVG90EFmjaZBwHs1Qmn3MkJsb+FBDgbjQU0GnUGqh+RBES02QmLY0kFESupB5WzEQThoNkIgneRB9izAQY+n2EFKvdlBO1PPQcUB10G99uhB6bTCQU4p4UGf8udBzDrqQf5H40HjdedBIT/SQZwm4kHuodhBBrPYQWmQNULYMeRBrDQ2QvI8nkF/1t5Bu7w2QgPbMULID81B57u/QRRJ5UErJzJCTZ8yQjt7vUGg59BB+j7XQTcboEGyYDZC0DvbQcwIx0EBOTZCjYnoQTlUoEEl9+VBjr81Qv/YxEG9ruhBQXPmQTR15UGLM9xBDmjVQS8K4kFmleFBuNvkQUKH40HA1zVC8QDAQVpn6UHbOedB4bsyQr1s0EGKgOZBwlneQSScy0FfveNBBI7nQWyINELystBBnBKgQXcIvkHQr89B26nlQYxRwkHNaadB5BPkQSKWMUKRRtlBt/nNQcdP5EGtw8BB1O7mQcuBwkHemeFBNaAwQlEk2UGRDedBcgPfQb8K6UHf5b9BlwbaQcvhzEFK6+JBMfvmQSEgnUGNEedB826+QX3Q6UExkN1BKdTkQQ2tMUKpANRB5sk1Qp6g6EELtONBAKU2QsKPNUJrFepBeUidQWTmyEFNHeRBHD3DQSs620HcPttBMyClQV3t1kG/8N9BwcnCQVMzwUF/wDNCDV/hQbIR50EmoMVBdm7eQYTM6EFDD6FBVV81Qki+40Frt9BBk7wxQo2p40HF7t5B1m3pQagaNkLK3dpBOJDVQb9+50FaM9FB6OOcQbGq40Hcz9FB7S+dQS6iwEFxpeBBcMTpQWwJxEGa2DFC0NozQjOJ2UFRizNCyhOdQZMi5UERv95BZbHgQbA34EFakOhB5a7bQZPrNUItzzVC9SnlQTOL10GK49xBBCjnQYdu4UFY7zRCd/biQYoHNEIi/uVBs2TiQeGNv0Gtw9hBKUXhQXc93UFncsBBnHjZQZKd6kG3w8JBcGo1Qvih0EHdZTNCz6zjQb4x40EaJdlB8GzfQSaQ3UFW6uhBDorqQSVww0EeSZ9BswzDQZjj20EJAjZCbW/iQadL0UFjwzVCaTaiQSFOpEEAV+pBhPnoQf2jNkLAqOZBgS82QigW2kHkx8NBhULlQcXp5kGLM9FBbJc0Qo/Z30GAzJ1BFmzfQYYj4EG0NdpBKT7iQV7h6EHJITFC0lngQaJl4kEtT+FBxpHQQQIx4EGimthBPm3kQYtY2kESBctBlEs1Qvfe30GhZ+RBKsTnQXYUNkKUduRBwsvkQSyYxUFaBMVBU7gvQkpz1EHOZ8RBEPvoQTGx5EHwsjZCUYO/QZnW6EFPVeRBViY2QtOJz0HqwcJBqbTiQSYg0kGLLeBB/FHqQUzuMkJeteNB0GrnQZJK6kEyDjRC3rfYQT9g5UFyd9tBzl4wQtEZ0kHUSedBbP81Qt+n50EopDJChKycQapE30HZYuZBNF+eQaidwUHV8dJBJCXfQeRgy0HmBb1BGB82QlDI3kEApeNBDTmgQdWy1EHHlONBQ7kxQr1f20F6QzZC/QqeQU6r4UE5JDZCIUrWQQmjw0HifN1BzjbFQTLk30GcUdNB0vCcQfaz5EGnZrlBpI6fQdFXM0IigsNBtH3XQeuBwUHYCjNCvGPgQSUQ0UH7E+ZBM+XMQQV15EHRqNFB2CzjQYAGNELp08RBNlo2Qpwv3UGpItlBwrvQQdag6EEEcMZBDQbnQRflyEF4t9BB8UHbQQAB2UGjjddBovDcQXNwNkK1UN9B1HSeQRgg3UHU2+ZBHejiQS+N50FjFqRB/hrDQYnj30EGc8JBskDYQX9Qw0Ep199BJNLCQXJ7NULbB8RBTj/MQa3/5kGugsNBO83NQby85kGDm99BORrpQYZ0wEEecudB+VnnQSg650Fdq99BownWQaDv00HezcJBI7vUQW7n0kGFKTZCqxvgQWFPnkHNkOZBdLzoQRfM4kGpZtdBedafQXtVv0G+MqFB953lQfdn5EHvqehB12nmQa8by0FJz+RBlToyQh9Pw0F0ajFCWtPCQc6m5EFYydhBqM6/QbCj50F+0DVCopSdQTjQ0kEjNNRB504wQgnY3EEO69VBgsoyQrO800FKottBNmrdQdmRvkFrGDZC9xnUQXDLoEHvRuhBEYbkQe5KM0LGLOJBs3TOQYBIokG+usNBsrLPQRbG0kFdT8FBW6fpQT/Ww0FNVuhBEVLjQWw2zEFHYL1BYd/qQa/3yEHX4Z9Bl//mQWOUy0F8TJ1Bj8bAQa9y40GTDTNCe8bBQehq30E0wudBW6boQV+U10HGauhB9L3ZQXXvz0EzDJ9B1fMyQi/Jw0GhcuRBVQjHQSLt4UFW4edBPKzkQZUw5EFoNdlBYf3VQQMY5UHyqt1BjIThQVHJ4EFsy89B0G7nQcS2oEE92N5BdtPeQX/O00EYoOhBzmLjQaQ65kEKd+pBS3znQXtcw0HJqeZB8u7fQVyNpUEV+8JBjH7WQUXT5kGqR+RBzSLoQS1+NkIM+8JBC9udQXtsMUIFOtJBL3rAQXWP6kETGZ1BC5c2QqSr6UFHdTJC6/c0QqlD4EECP9VBoevgQQkJxEF/rjZCxtrkQWMN0UH6f8VBtVzeQQ7e0kFieeFB/rqlQVA06UEcZuhB2ricQepGwkF2q+hBWefnQbH8yEH8qeFBGKqlQf9IMkInB+dBliHQQS68MkK4FzJCepPlQTFOp0G6k8NBAOvDQb1y30Hwr8FBlCrOQdCO0EHInd9BngUyQvPgpUGpbTNCH+KmQXKJNUJ8BcRBM07nQWlc4UHu9uRBdDXaQQ304EHpWMJBVJTqQdG4pUGD15xBgFHkQQNs4UFEHOpBDqW1QXK/v0HDXOhBjEPJQXtjwkFo/d5BS+TFQfaK20Hu2zFC4F3EQf8f5UHKUdFBq9TgQSMCz0HlAORBCRM2QsFtokFVxeZBPIXmQQL5wkFpssJBSUg1QhzGNUJoXuRBRCkzQkg3MkIuV+BBTQbiQTmwzkFPyepBfMnjQTIC4EE3i6JB+cDkQQpZx0HSVORBGKE1Qhoe3kHuFjZClMfWQZ2yMUKCFOdB467CQc8Ey0HCqKFByKkyQl/o5kFabuhB6Kc1QjBftUHRBuJB1nugQYwa5kGhDzZCl6HoQdAjnUFxl+NBQuXFQazLM0JiRttBJbOgQUPwNULX7zVC8IowQqU350H1SuRBxG02Qmtt20HyT9xB9QgwQjJ25EEUltJBdRswQgS+40FWA+RBfE/jQai3m0FQV6BBx5XlQclC5UFTNcJBDsLXQW0SzEGTDN9BJjLfQVC65kFSF55Bq1TlQb1fxEE+mJxB3O0zQjES1UFXhKNBoKQyQjqo30FYfTFCrOQ1Qr2PpUGwx+hB+abmQay9MUIxB+lBcIHcQSB0M0Js1+RBdjCdQYRp6UG5sTNChiKiQWy1tEGh+zRCNTQyQhpS4UGLFOBBE3biQYu+50HP7DNCDongQQEFNELymONB7P7UQUKpnEHOvqBBEeTYQdTRM0LuDMRB2DqdQecwxEFivMpBS7vfQdJjNEI9AeZBBe7CQe2FnEGzzjBCOaykQYNi5UHFoJxBM4/mQSxJ4EG8kjZCYeDeQZMT5UGcyNVBeMS/QWA0oUHVzNhBLkTOQZUY30GhiOlBOWLfQSE/40FDutxBHnLqQXEZMEJlrjZCECwxQkIS4kGJ0d9B2FaeQVf8oUE67+JBQuCkQWlg50Gmu5xBteWmQbeq0EHMtTZCj2nrQTB51UG1rjZC+9rhQdovo0H3Zb9BQevFQcN/3kF9MsRBrCLjQdCE4UHzTONBhC0xQh/65EEJLudBS2blQUss3kFCmuhBS8SoQZ4JzEFTcepBlBblQRmB6EHMAdBBfrjgQQMKoUHqE9BBYBDfQUvZ20EaWzZCwgHPQaTH0EFjwORB9FDjQSWn6kGF3qBB9SkzQjGnnEFvYjVChq4yQq/b30Fj5JxB3UnfQXCM6kF7j+BBGj7hQZhv50GDk8RBekrmQUfk40Hu5d9B0ZPBQYPh3kH03ulB1yDfQbo45EHujOFBANrXQZ4+1EF9wd5BHYGdQQZv5EHqRKdBCwzPQfo55UHgvONBo66gQQ2B5EF/EOZBBY7DQeIiwUHQUMNBs0bnQYiYp0Eps95BJVOeQatuykFX/uZBUDbgQTiZ2UGtCp1BF3UwQoloL0KpxOdBQEudQTklnEHcv6BBWRU1QkyOw0EYFTNCvcXeQfk740FHOJ5BQknpQbdCnEFG9+JBUPPmQU5unEH51pxBce6cQdOdLkJA0DRCN1jPQXXI40ELz+NBub/jQbD140FKzZtBIArjQT+r50Fo3rRBiM7aQQOU4EEBO89Bsi7kQWLG5UGzIOlB+TnaQVqw1kEY9ZxB6czeQbid5kGuyMlBZ7rnQYOQwUEvheNBkj/nQV2D6kFybdVBe6syQk5ww0EyNaNBurDoQTSd50F8+ONBOH7lQSM3uEHnbqBB+L3nQejn50HZedZBY/8vQuyW3kH078tB0iucQX8V5EFZuTZCKyPJQZH75kH5mdVBoZ3jQfvRw0GQkJxBOrjnQfm1x0H1OeFBkyozQsN/5UGsOtJBYTnfQa/ZnEGXuudBqMk2QppLNkIJepxBDdXoQZlQ3kGwk+BB2MkvQrkH40Hm99RB/ajkQQjtNULNvDRCqDLgQR/cMULNduNBcT/gQbLq4UFwvd5BQefeQdN5oEHh5jFCbEvfQWNLMkIVU+JBNGieQVsoNUJ4jjZC81LmQTRt6EG+MtZBBvffQVDW2EGbkuNBlP7oQf6P50Ez/udBIHjWQXcb0UGjj51BVE2iQTYg2kHdraRBgc/mQZqu4EHTMdJB5SXoQQXTnEHGCOlBxdIvQufF40Fz4S9C+ys2QoyqwUFaVuBBBPfjQf82oEEByjZCzITqQRGq5UFwrDRCsoHfQWuc3kF/9y9CgszWQS6sw0EGcKRB7wrgQVBq6EGpnudBrRviQf95z0GMeNlBFpEyQio04kGBhOFB/RXkQZ/aw0GRm6RBHDrdQUEY40GSUDFC62OeQWGGoEGuK+NBlj7NQbaS0UHhNORBB53oQf2g10FxAOZBBo3bQbmZ3kEgp95BeoiiQYK5n0HtX+FBOCvQQVDf5EHaj+VBbXcvQrSnoEFEDy9CJgzhQUm16kGn9NhB+EHVQW+TwEEXDpxBGNKdQVfC2UFYJctBcrQ2Qm1p3kHHYJ1BNZ82Qvz15UEGUJxB0JiiQZYo4UG+mjJCutacQXkCMEI948RBkPfTQUiA6UFi3+FBFJgzQu4/4EElzc5BnfrEQbaQMkI3uTZCfw8yQjbR4EGyleVBMabiQeLnM0LzqcJBTdvnQRJvn0E3ot9Baj7nQfe14EFV6OJBQZPDQd7onEGcVthBMSLpQXzL6kGsV5xBN+eeQaBc4kEUn6BBuBilQX/K30HzxTVCvXPlQehu6EE73thBxsKbQaKepEHfkuNB5cbDQXmWMUK4nupB/sIzQpn11UHfGstBBSLpQX7c5EFJj+RB//PnQVnu10FXwuVBL6O9QbWp30FmS9VBJ5w1QlnU6EGADKRBRLLdQVfL4EGopuZBEc6fQRFbNEIdyuJBwHrpQRcMp0EQtNVBHWffQU98M0I1295B3F3kQS2p30ERaM9BbWfhQZCxw0GHeelBmo/cQSMINEI/7pxBsU7cQRmd40FGqNJBEoLSQS/uMEL/GzZCd97jQbAHN0JeGt9BA2zeQYJw0EEScedBO3fQQdfEpEFYfupBsDnhQVCXn0GAiOdBBcw0QpWT6UGd3uNBmW3qQcS8MkKlQaRB6h6cQRWG30FvxJ9BusfkQUPaMEJOETFCPp/NQSkn50FOTulBvf2bQUUw5UFYU5xBbl0wQmkQ50F3Pd9BTdbiQV7V5EGI59tB5kOiQQZC4EHlOTZCBjjmQSlqNkI8+s1B7KreQRq31kEOzTNC3+PeQSwY3kEmkeZBqOLgQcbI40Gn2+dBrmPSQYDy1kGF++VBXNwyQujkm0EzssRBM8vEQW+ZwEHeszRCMiPcQZrxxUGiiy9Cx1UyQoqkNEJzs8NB2BTcQRcs10Hfu99ByXkzQvmm5UFT1ONBlBnDQRRH50HAn9hBfCrmQd2A0UHhteRBpa3gQUG7MELTLDBC"
         },
         "xaxis": "x",
         "y": {
          "dtype": "f4",
          "bdata": "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"
         },
         "yaxis": "y",
         "type": "scattergl"
        },
        {
         "hovertemplate": "disease_types=chronic_inflammatory<br>x=%{x}<br>y=%{y}<extra></extra>",
         "legendgroup": "chronic_inflammatory",
         "marker": {
          "color": "#00B0F6",
          "symbol": "circle",
          "size": 4
         },
         "mode": "markers",
         "name": "chronic_inflammatory",
         "showlegend": true,
         "x": {
          "dtype": "f4",
          "bdata": "+CLTQVOb1UHbDudBRAHCQfcDzUF2VdVBlkHDQXYB4UGsaedBw2zjQT/h3EFI9NtBO9HjQTxbz0FHvcdBprLaQUAu50GjO+JBdljdQaEFwkFk2cJB1ZjfQQno1kFCp8BBEofVQRfJ20HaquFBPq3hQcvX5kGicNNBta7SQZ59zEEa3uJBgijhQWU+3EHuGp1BXujgQcu450EIhOhBMIDkQYl54UFF7L5B/YTbQYxB5kF3PuZBWKTCQQL2wkHDucxBcJfgQdyOwkFQGcxBM77nQcWy40H6yd5B1izgQdTn40FZz85BDlDhQRBq50HB28JBcMbSQauvzkEBOL5B9krDQTGL40HwZ91BNCXYQXIewkGE8+dByMTjQVRU4UHsLOhBzPjdQbvM2EH38+VBwUPQQTLMwkHliONBdo3hQeCW10GODtlBtYjUQWCowUH/S9NBEPq/QVaOykGYf+dBfxTnQajUwkEPEuBBjFLhQclc10FzddxBicbKQUCn5UEb0cJBqNrmQQN4wkFtUd9BIHrfQaZR3EEsvuNBIPTdQV3u0UH6891BubDCQS6i5kHwyM5BU6XfQUo00UGkpONBhb3eQSY32kF8zOBBojblQdJi3UHBxsJBbUHnQaUZ4UFmCMxBjQnZQYfN50GPJ8RB66zdQZJ7w0Ht3edBt/rCQWXE3EGN4tFBvCfjQYib4UGTZOhBhuPPQbRF0UF7e9BBzk/lQV+e5kFYBcRB0UfTQe123EFinORBC4DmQVGB30EEPNhB2lndQU5r0EF6eNxBA5LdQQoNw0Fn/MNBRHXSQQHv40GwwdVBVbnQQfwW4kF2PL5BI5rcQWob40HmVOJB4qHWQTk550GYb81B7EfTQTWi4kGsO8NB4g/fQR6ew0EFIttBw0m+QZBa1UHcZuVBxTLiQXBO3UEtDdhBnpHhQXRV4kFmVudBaQ7QQWKy3EH/ktFB0rbdQXra4EHrveBBZde+QYng50EqqN1BEkK+Qf5ewkH1WtNB7KDnQTaP3EHrScNBqM7gQft/4EHvYNtBmKPkQWfJyEHE5N9B22nhQd/cxEFK5s9BKsbjQcyV5kHYcuJBZ8HnQe7D5kFhh+RBsNLiQddu1EGtueJBC5Y0QmDoxEFIssJBhEjJQTeM0UFmRMNBjhjbQTRp4UFW8dBB3yHbQR1UxEEllNxBn5bhQb0U5kE+1s9BWnrZQcCw0kE="
         },
         "xaxis": "x",
         "y": {
          "dtype": "f4",
          "bdata": "YyqswA6VjsBlS3XAfMVNwHqjAcH+dcvA+3FgwHx508C/QAvBIeb+wBhmv8B94yTB0YbgwANgusD6QZXAafk1wQgKdcAyfgjBmUjnwETBV8Bnw2LAFOHNwHWVCcE4x4/A87WOwIjoJMEzKhLBnGMUweDdCcG/v6/A2Z+swOPpAMEkpX3AX6EVwYkJ9cDtujzBa/ETwRzwC8FoMprBg0HywJ1yE8H8irrAXJQlwcB8xcB7hm7AykBewGxI98CPmIjAC0SGwCbcXMCn+gDB+sYLwXlQhcCbXQDBnQvTwHFwY8CVbLzAX2oTwe1XCcEdjfzAYMauwDTSvcA+8IzAVSL5wC20usAybCTBSIQIwT5RYcBl+AvBZaPwwKFpE8HZ6wrBEigjwXA0vcAfNInAtSoHwYgSYMCr8J3B2f+YwIW1OcGIbDvB91aHwLB7esDCqAbBn/SgwHXXz8B9+nPA+gBvwJ/GWMDsh67AtVQHwTen0sCewPXAh7muwM0VnMFqelfAK1HDwPB7ZsC638rAXuPcwOH088C2+frAY34iwZ8brsCWAgHB38/AwPJgasBRV7vAVowZwQvOA8EbvwjBzHYdwSjA/MCScoDBMbuewQ2PIsHjFLLAeFF3wGDgEcFYtZ/AU/StwH37H8GXhpbAh4kiwaxrWcCidnjAqWv6wBV19cBIv7PA05gUwQKQEcFp8AvBOlz9wCdjA8GKJZHAL7OCwOuOw8BQ85fAk9ixwLT4HMFulfjAVEMIwWdC+sCKWgnBpIm+wJXWIcHaNCLBtrOKwC0C+cDsDfzAb8+ywKU28cC1PbfA7ZcDwTd7A8FKG4vABQAiwSYXocCDrbvAlJfRwI4NecBrbJ7AzRy1wLrkm8BmP7XAQu0gwe8tj8BsgCHBNq+LwIvGjcClrGbAYXcVwXUbIsFC/6nAIFHYwIT3DcH56wrB3GYgwT05AcFW7q/AYrMhwd0i1cCbwA/B4mmVwPwLDMG2XyLBEsGqwEFi9MBVY6XA+AF6wHcrIcHps1/AOa0FwY3HFsGi+PXAuWPwwK3NrcC6yurAcQMUwc9zocBeYyHBALvtwFLjw8DxQsXAvhRzwFiUw8ClD/XA7SELwW3Di8AhbgHB85wVQSY4VMD0W1zAkmALwV7mBMG4cvjAIomRwHueFMHLUAXBWhsmwaOzZ8DLQSfBmtYIwVlhiMGicO7ARpAhwS//BcE="
         },
         "yaxis": "y",
         "type": "scattergl"
        },
        {
         "hovertemplate": "disease_types=other<br>x=%{x}<br>y=%{y}<extra></extra>",
         "legendgroup": "other",
         "marker": {
          "color": "#E76BF3",
          "symbol": "circle",
          "size": 4
         },
         "mode": "markers",
         "name": "other",
         "showlegend": true,
         "x": {
          "dtype": "f4",
          "bdata": "AU7UQZFc1UGTirVBA+fTQUUn1UE70OVByNK/QU9jw0ENZt1BtwDnQbgOtUF1ZOZBF3zBQfqwoEFX+LRBoku3QfXN5kFIR+NB2Y/UQWLWtUF7IeBBk3i2QefuwkFJOudB2qG+QWlZ3kG2FcNBf0HEQQI04kHM3eZBYja+QclG0kEjm9dBvrbXQTQFtUEWo9NB3xvoQVaJ10FcGdNBKiO1QY9/1EHmebVB4j3DQTq44EFOC9VBgQLVQVR/10GcT91B8pvYQXiy1EG+GdZBf9LBQfWJx0G8R81BWKO+Qf6RwUFShNRBRKa1QVC1vUHwIb9B5Z/EQaQ70kGZT8JBeLnTQQB41EFQXcxBP8bSQRKozUHIp8xB4QLYQTKX00F+kc5B2c/ZQbT25kHYBMNBF8HkQTXU1EG6GsNBWuXFQdXFy0EruLVBlIXQQdFF0UEhk9ZBT8y7Qf7C50HT8tNB3RXUQQ5ZvEHrUNVBZwXDQRG9xUGEZd1BlZ3DQYWm1kHfZcJB+Oi+QR0nzkEthLdBJ5LmQXU73UFwfcJBBRLDQUcY2UGgrdZBneqgQa2F0kGk1LxB9xS8QTF3zEGUQddBXqHKQWmPvkFfKLVB3CDoQfM9zUFL17RBWLHYQee65EFEgcNB/Z/KQS2G00EPQc5B3OG+QZS73kGIXdZB6Ou7QRHM4kHt37RBKRy9QUKawkGGjdRBGmLaQSUStEF7f9lBu3HUQTq200FaztJBd1/jQbJ8y0H5XdBBwjfPQfBr0kETp9xB+73DQaCOtEE2FMNBm1LDQTi+1kHCI7VB94voQaMlzEFDmbpB5lbDQRZ4zEGmfeZBUgDbQREW1EGMEM1BuxnOQf5Ly0Ek2c5BblfLQdmu6EEeOMxBCofAQa/x00GLWL1BI5u+QXkK00EJ58tBqknmQYWuw0HD3b1BDOnOQabK4EE4jrRBbMTOQUPi2EE7u8tBsq3dQXUD10HV1NNBk8TOQRxBuEHRG7hB6JTYQc1+wkFMP9RBswS2QRuxzUHRtLRBBQ21QUu5tEE1SdZBLkW9Qblf1UF0SdBBvx7hQfG9wkECV85Bf0TeQSoZ6EEB889BqxPlQZaJw0EZHLVBGjq/QR3ju0FV8bhBVjK1Qa3juUHePMFBQEjVQTRnt0HxndFBjHe7QTOQw0Fd0M1BHTm2QeXytUFrtLRBwAG+QZDO1UEoasZBGL/RQYVD5kGHHslBqoHNQWLE3UFsjeJBFCXCQUBT50HDJ85BumXRQYJqwUEVftRBeO+7QYdA2EHCdN9BhsbRQWMS0EEyStRBBMq0Qdyv1kFPuL1BMFTUQbdZwUGi/tZBV8TFQRtiuUEB8LlBgereQWSdzkHH8tdBk4LWQTEP1UEgMdVB0AbNQamd50GC+M1BkIW2QTCFu0EPKdRBjo3MQUNn1EGM9NNBS3LMQQzDtEHRJNhBh8LMQSc91UFXIrVB0OLSQZKJtEEejNJBUVjOQaGRuUEZ0s1BUirRQf8n1EH9OtRBL6i5Qeub1kGtzbVB82jTQRZh20H//9FBvI3VQYd2tUGwQ9ZBW87AQRz0wkHZhc5BNVHXQWLGw0GUP9RBkPy7QVlOw0ER79FBQYLDQYbsu0GhNdFBAI/NQbLQ0UEmZ9JBZzPUQRBmz0E3zeFBdgfaQQLK10HT/bhBWObZQfJj00F2er5BE6K0QSTSzUHyZ7xBvlLUQfiEzkGNYLZBDADDQauLzEGgdNFBwH00QsRLv0HZm81BMKnXQd9XtUH+4s5BUuS0QZ3YzUFmcddBXj7EQQmY50FGGNhBI5m9QUgh1EGf3bdB5VzYQVnszkEqF7VBSmm0QeCbtkEMkbVB1u3iQZcPw0HhAbtBMl66Qb0u1EEalNlB2jvcQU/y00HXSrVB6pK1QVPpw0Fi6dlBv2O0QRw4xEEIbs9B3Ce5QScK5kHQ87RB"
         },
         "xaxis": "x",
         "y": {
          "dtype": "f4",
          "bdata": "X4OUwOl2/b/BIf3AYvAawRa8E8HZi2/AVFOHwKLWZMCAkyHBShxwwBCZAMHd4OTAco/ywH/mScHAywDBPdbzwCHmf8A1SP/AdcAYwVd1AMEytxPBQQj2wI5i9sDPHHXAGeWqwMKMh8DP4/jAnSvOwBGYnMBaGHDAI5iWwAlhr8BJZjTBBxkLwc2PAcE7YRrBa3gMwaU21MA45rLArCoAwSicGcG3eQDBkw1gwPqz2MDK5hrBfu4MwR9MhL+RcCXB2siRvzY5FsENvhPBhBnhwD/nxMABNJ7AtU6UwEEscsCQxRrBmGgAwd/flsBTWprA0sfuwFoGrcAzlVbA1q4awQbhGcHJs5/AGc+wwGZmC8Gw8YjAqdgewWSpGcF85gHBZcgwwSf1dcAj2mDAnBjFwH27GMGHmWDAm3f9wO7BisBz9QDB7TYEweI3xcCS6dfACC75wIQWDMEFERrBj1AawaBV6sBJZY7A9eNzwHiaj8BcxSHBrHlhwB2AAcAzuVLAgQ2KwEc7qMCg5/LA/jRzwJ4pIsHuFHvAK6WEwKpjNMErT9TAA5g9wRViwMABvfnAYm3pwCR2oMCjtjbBhtuswE1UpsAIxwDB8WIMwRaIDsED+gDBx9EbwWADZsDEWZHAcVmpwBTwvMCdRw7BOyamwGNu/cCsZNrAiDXjwLc/08BJ0QDBoqiWwHl2YsA/PNbAlHQjwSinAMG/IdjAAwUawR+/lsDWcq7AmNjEwAszAMEFIATBbUsQwS3kBcHwiCPBfiL0wJq6AcGe1lzAvTD4wAI3HMGBDwHBd5UMwdLAAcE2ZeXAP0j2wCodlsAFGuXA9JKmwPwaGsENgp/AiJANwc3NzsAvXbvAyIL/wIet/MBItZ7Ax9gAwReWGsHulJfAEincwJNRrMAF0KLAsAzpwFjq9MDcq4/AdgoLwd3qEsE08QHBBK8CwdJUzMBM2gDBZxIiwXftHcF7nxLBlM68wKEG8MDi0O3AwRM7wVpzacDsKRvB/xn+wHRKDcFScgHBjVQBwd/jAcE+5hTBf7v8wLXLjsDqFL7AtIedwB7N4sDsGcLA40UUwVOUC8ESoR/BrCYPwXbBxcDjNgHB9RqPwExD48DzQAHB/mz7wMz5/cDaNpvACn0VwSfF/MD76cTA7ST8wMefYcDgKcPAW2L+wHBeAcHXegHBIfaQwGNVEsGY0dzAMPSuwBOWjMB6+gPBE50OwR5CI8FtR9jAYyG6wN8QisCS0w3BO8wewY0o+8C+pxrBDmLlwBVSH8HLsLPAjD3DwI1wA8HaOBrBZkkBwbo/FsHFR7DArkwbwXvAWsBErR3Bvl5SwGz/7cCNAwDBInOHwJOzD8EV4jfBbxsVwVXCGMHfWhPBgfu7wCwbj8A7wA3BiRX7wG0k68CCbBrB/+ifwOv/GsFTCBrByCqfwLRHAcEwvhrBfgbYwOT/EcFnTv7AYgHBwCvM/cD9urDAR/8NwWU//sCDIA7B5vbHwHGgGsEhhBrBBkcAwe5BHcGkjP7A6gcbwXidJsHZJ7DAWZwWwUum+8CYcBTB7GUBwQM8+cBou8LACboVwbo++8B3axrB9Hr4wKxHdcBfXKrAc3xiwBtX5MD/Mh3BrvnCwPtIsMDI4BzBP1AZwRiWuMCkwRPBUe0jwd8KH8GSLOjALW0YwZWRG8EXg9zAOCICwY+mwsALp/zA5paywEtADsGW6vzAVUt0wPTJDcGxn8PAHw8iQZU+38BwNwzBjyWtwK83AME9nA3BXEIBwfqmxMBiLhTBbSmUwGJ+B8FewjXByTj9wOD9GcGSZvHAjzEawTJXD8H6sQHBSUkCwYFu+MAlSAHBfIidwVnZU8AKFufAJnz/wMiLGcGmRTLBChSIwOaNGsGLoADBX5YAwZFIY8CAQx/BjxkCwZBOl8A7aNPAfuEAwcFSycBXUgHB"
         },
         "yaxis": "y",
         "type": "scattergl"
        },
        {
         "hovertemplate": "disease_types=allergy<br>x=%{x}<br>y=%{y}<extra></extra>",
         "legendgroup": "allergy",
         "marker": {
          "color": "#F8766D",
          "symbol": "circle",
          "size": 4
         },
         "mode": "markers",
         "name": "allergy",
         "showlegend": true,
         "x": {
          "dtype": "f4",
          "bdata": "U6e9Qenk4kEFvedBn+HYQROWwkGVMMxB3ErhQYof4UERMsNB"
         },
         "xaxis": "x",
         "y": {
          "dtype": "f4",
          "bdata": "8ryZwMCNEcEQ7grB/aE7wW0HWsDBsNLAvjAKwd56E8HH7lvA"
         },
         "yaxis": "y",
         "type": "scattergl"
        }
       ],
       "layout": {
        "template": {
         "data": {
          "barpolar": [
           {
            "marker": {
             "line": {
              "color": "rgb(237,237,237)",
              "width": 0.5
             },
             "pattern": {
              "fillmode": "overlay",
              "size": 10,
              "solidity": 0.2
             }
            },
            "type": "barpolar"
           }
          ],
          "bar": [
           {
            "error_x": {
             "color": "rgb(51,51,51)"
            },
            "error_y": {
             "color": "rgb(51,51,51)"
            },
            "marker": {
             "line": {
              "color": "rgb(237,237,237)",
              "width": 0.5
             },
             "pattern": {
              "fillmode": "overlay",
              "size": 10,
              "solidity": 0.2
             }
            },
            "type": "bar"
           }
          ],
          "carpet": [
           {
            "aaxis": {
             "endlinecolor": "rgb(51,51,51)",
             "gridcolor": "white",
             "linecolor": "white",
             "minorgridcolor": "white",
             "startlinecolor": "rgb(51,51,51)"
            },
            "baxis": {
             "endlinecolor": "rgb(51,51,51)",
             "gridcolor": "white",
             "linecolor": "white",
             "minorgridcolor": "white",
             "startlinecolor": "rgb(51,51,51)"
            },
            "type": "carpet"
           }
          ],
          "choropleth": [
           {
            "colorbar": {
             "outlinewidth": 0,
             "tickcolor": "rgb(237,237,237)",
             "ticklen": 6,
             "ticks": "inside"
            },
            "type": "choropleth"
           }
          ],
          "contourcarpet": [
           {
            "colorbar": {
             "outlinewidth": 0,
             "tickcolor": "rgb(237,237,237)",
             "ticklen": 6,
             "ticks": "inside"
            },
            "type": "contourcarpet"
           }
          ],
          "contour": [
           {
            "colorbar": {
             "outlinewidth": 0,
             "tickcolor": "rgb(237,237,237)",
             "ticklen": 6,
             "ticks": "inside"
            },
            "colorscale": [
             [
              0,
              "rgb(20,44,66)"
             ],
             [
              1,
              "rgb(90,179,244)"
             ]
            ],
            "type": "contour"
           }
          ],
          "heatmap": [
           {
            "colorbar": {
             "outlinewidth": 0,
             "tickcolor": "rgb(237,237,237)",
             "ticklen": 6,
             "ticks": "inside"
            },
            "colorscale": [
             [
              0,
              "rgb(20,44,66)"
             ],
             [
              1,
              "rgb(90,179,244)"
             ]
            ],
            "type": "heatmap"
           }
          ],
          "histogram2dcontour": [
           {
            "colorbar": {
             "outlinewidth": 0,
             "tickcolor": "rgb(237,237,237)",
             "ticklen": 6,
             "ticks": "inside"
            },
            "colorscale": [
             [
              0,
              "rgb(20,44,66)"
             ],
             [
              1,
              "rgb(90,179,244)"
             ]
            ],
            "type": "histogram2dcontour"
           }
          ],
          "histogram2d": [
           {
            "colorbar": {
             "outlinewidth": 0,
             "tickcolor": "rgb(237,237,237)",
             "ticklen": 6,
             "ticks": "inside"
            },
            "colorscale": [
             [
              0,
              "rgb(20,44,66)"
             ],
             [
              1,
              "rgb(90,179,244)"
             ]
            ],
            "type": "histogram2d"
           }
          ],
          "histogram": [
           {
            "marker": {
             "pattern": {
              "fillmode": "overlay",
              "size": 10,
              "solidity": 0.2
             }
            },
            "type": "histogram"
           }
          ],
          "mesh3d": [
           {
            "colorbar": {
             "outlinewidth": 0,
             "tickcolor": "rgb(237,237,237)",
             "ticklen": 6,
             "ticks": "inside"
            },
            "type": "mesh3d"
           }
          ],
          "parcoords": [
           {
            "line": {
             "colorbar": {
              "outlinewidth": 0,
              "tickcolor": "rgb(237,237,237)",
              "ticklen": 6,
              "ticks": "inside"
             }
            },
            "type": "parcoords"
           }
          ],
          "pie": [
           {
            "automargin": true,
            "type": "pie"
           }
          ],
          "scatter3d": [
           {
            "line": {
             "colorbar": {
              "outlinewidth": 0,
              "tickcolor": "rgb(237,237,237)",
              "ticklen": 6,
              "ticks": "inside"
             }
            },
            "marker": {
             "colorbar": {
              "outlinewidth": 0,
              "tickcolor": "rgb(237,237,237)",
              "ticklen": 6,
              "ticks": "inside"
             }
            },
            "type": "scatter3d"
           }
          ],
          "scattercarpet": [
           {
            "marker": {
             "colorbar": {
              "outlinewidth": 0,
              "tickcolor": "rgb(237,237,237)",
              "ticklen": 6,
              "ticks": "inside"
             }
            },
            "type": "scattercarpet"
           }
          ],
          "scattergeo": [
           {
            "marker": {
             "colorbar": {
              "outlinewidth": 0,
              "tickcolor": "rgb(237,237,237)",
              "ticklen": 6,
              "ticks": "inside"
             }
            },
            "type": "scattergeo"
           }
          ],
          "scattergl": [
           {
            "marker": {
             "colorbar": {
              "outlinewidth": 0,
              "tickcolor": "rgb(237,237,237)",
              "ticklen": 6,
              "ticks": "inside"
             }
            },
            "type": "scattergl"
           }
          ],
          "scattermapbox": [
           {
            "marker": {
             "colorbar": {
              "outlinewidth": 0,
              "tickcolor": "rgb(237,237,237)",
              "ticklen": 6,
              "ticks": "inside"
             }
            },
            "type": "scattermapbox"
           }
          ],
          "scattermap": [
           {
            "marker": {
             "colorbar": {
              "outlinewidth": 0,
              "tickcolor": "rgb(237,237,237)",
              "ticklen": 6,
              "ticks": "inside"
             }
            },
            "type": "scattermap"
           }
          ],
          "scatterpolargl": [
           {
            "marker": {
             "colorbar": {
              "outlinewidth": 0,
              "tickcolor": "rgb(237,237,237)",
              "ticklen": 6,
              "ticks": "inside"
             }
            },
            "type": "scatterpolargl"
           }
          ],
          "scatterpolar": [
           {
            "marker": {
             "colorbar": {
              "outlinewidth": 0,
              "tickcolor": "rgb(237,237,237)",
              "ticklen": 6,
              "ticks": "inside"
             }
            },
            "type": "scatterpolar"
           }
          ],
          "scatter": [
           {
            "fillpattern": {
             "fillmode": "overlay",
             "size": 10,
             "solidity": 0.2
            },
            "type": "scatter"
           }
          ],
          "scatterternary": [
           {
            "marker": {
             "colorbar": {
              "outlinewidth": 0,
              "tickcolor": "rgb(237,237,237)",
              "ticklen": 6,
              "ticks": "inside"
             }
            },
            "type": "scatterternary"
           }
          ],
          "surface": [
           {
            "colorbar": {
             "outlinewidth": 0,
             "tickcolor": "rgb(237,237,237)",
             "ticklen": 6,
             "ticks": "inside"
            },
            "colorscale": [
             [
              0,
              "rgb(20,44,66)"
             ],
             [
              1,
              "rgb(90,179,244)"
             ]
            ],
            "type": "surface"
           }
          ],
          "table": [
           {
            "cells": {
             "fill": {
              "color": "rgb(237,237,237)"
             },
             "line": {
              "color": "white"
             }
            },
            "header": {
             "fill": {
              "color": "rgb(217,217,217)"
             },
             "line": {
              "color": "white"
             }
            },
            "type": "table"
           }
          ]
         },
         "layout": {
          "annotationdefaults": {
           "arrowhead": 0,
           "arrowwidth": 1
          },
          "autotypenumbers": "strict",
          "coloraxis": {
           "colorbar": {
            "outlinewidth": 0,
            "tickcolor": "rgb(237,237,237)",
            "ticklen": 6,
            "ticks": "inside"
           }
          },
          "colorscale": {
           "sequential": [
            [
             0,
             "rgb(20,44,66)"
            ],
            [
             1,
             "rgb(90,179,244)"
            ]
           ],
           "sequentialminus": [
            [
             0,
             "rgb(20,44,66)"
            ],
            [
             1,
             "rgb(90,179,244)"
            ]
           ]
          },
          "colorway": [
           "#F8766D",
           "#A3A500",
           "#00BF7D",
           "#00B0F6",
           "#E76BF3"
          ],
          "font": {
           "color": "rgb(51,51,51)"
          },
          "geo": {
           "bgcolor": "white",
           "lakecolor": "white",
           "landcolor": "rgb(237,237,237)",
           "showlakes": true,
           "showland": true,
           "subunitcolor": "white"
          },
          "hoverlabel": {
           "align": "left"
          },
          "hovermode": "closest",
          "paper_bgcolor": "white",
          "plot_bgcolor": "rgb(237,237,237)",
          "polar": {
           "angularaxis": {
            "gridcolor": "white",
            "linecolor": "white",
            "showgrid": true,
            "tickcolor": "rgb(51,51,51)",
            "ticks": "outside"
           },
           "bgcolor": "rgb(237,237,237)",
           "radialaxis": {
            "gridcolor": "white",
            "linecolor": "white",
            "showgrid": true,
            "tickcolor": "rgb(51,51,51)",
            "ticks": "outside"
           }
          },
          "scene": {
           "xaxis": {
            "backgroundcolor": "rgb(237,237,237)",
            "gridcolor": "white",
            "gridwidth": 2,
            "linecolor": "white",
            "showbackground": true,
            "showgrid": true,
            "tickcolor": "rgb(51,51,51)",
            "ticks": "outside",
            "zerolinecolor": "white"
           },
           "yaxis": {
            "backgroundcolor": "rgb(237,237,237)",
            "gridcolor": "white",
            "gridwidth": 2,
            "linecolor": "white",
            "showbackground": true,
            "showgrid": true,
            "tickcolor": "rgb(51,51,51)",
            "ticks": "outside",
            "zerolinecolor": "white"
           },
           "zaxis": {
            "backgroundcolor": "rgb(237,237,237)",
            "gridcolor": "white",
            "gridwidth": 2,
            "linecolor": "white",
            "showbackground": true,
            "showgrid": true,
            "tickcolor": "rgb(51,51,51)",
            "ticks": "outside",
            "zerolinecolor": "white"
           }
          },
          "shapedefaults": {
           "fillcolor": "black",
           "line": {
            "width": 0
           },
           "opacity": 0.3
          },
          "ternary": {
           "aaxis": {
            "gridcolor": "white",
            "linecolor": "white",
            "showgrid": true,
            "tickcolor": "rgb(51,51,51)",
            "ticks": "outside"
           },
           "baxis": {
            "gridcolor": "white",
            "linecolor": "white",
            "showgrid": true,
            "tickcolor": "rgb(51,51,51)",
            "ticks": "outside"
           },
           "bgcolor": "rgb(237,237,237)",
           "caxis": {
            "gridcolor": "white",
            "linecolor": "white",
            "showgrid": true,
            "tickcolor": "rgb(51,51,51)",
            "ticks": "outside"
           }
          },
          "xaxis": {
           "automargin": true,
           "gridcolor": "white",
           "linecolor": "white",
           "showgrid": true,
           "tickcolor": "rgb(51,51,51)",
           "ticks": "outside",
           "title": {
            "standoff": 15
           },
           "zerolinecolor": "white"
          },
          "yaxis": {
           "automargin": true,
           "gridcolor": "white",
           "linecolor": "white",
           "showgrid": true,
           "tickcolor": "rgb(51,51,51)",
           "ticks": "outside",
           "title": {
            "standoff": 15
           },
           "zerolinecolor": "white"
          }
         }
        },
        "xaxis": {
         "anchor": "y",
         "domain": [
          0.0,
          1.0
         ],
         "title": {
          "text": "x"
         }
        },
        "yaxis": {
         "anchor": "x",
         "domain": [
          0.0,
          1.0
         ],
         "title": {
          "text": "y"
         }
        },
        "legend": {
         "title": {
          "text": "disease_types"
         },
         "tracegroupgap": 0
        },
        "title": {
         "text": "EHR Immune Disease Types Clustering"
        },
        "height": 600,
        "width": 1100
       },
       "config": {
        "plotlyServerURL": "https://plot.ly"
       }
      }
     },
     "metadata": {},
     "output_type": "display_data"
    }
   ],
   "execution_count": 19
  },
  {
   "metadata": {},
   "cell_type": "markdown",
   "source": [
    "---\n",
    "# Genes (PBMC)"
   ],
   "id": "112b786bd17ab99c"
  },
  {
   "metadata": {
    "ExecuteTime": {
     "end_time": "2025-07-10T19:23:02.213512Z",
     "start_time": "2025-07-10T19:23:02.210999Z"
    }
   },
   "cell_type": "code",
   "source": [
    "# DATA\n",
    "filepath = 'data/PBMC'\n",
    "filepath = os.path.expanduser(filepath)"
   ],
   "id": "a73467d4404445e4",
   "outputs": [],
   "execution_count": 20
  },
  {
   "metadata": {
    "ExecuteTime": {
     "end_time": "2025-07-10T19:23:04.125775Z",
     "start_time": "2025-07-10T19:23:03.759628Z"
    }
   },
   "cell_type": "code",
   "source": [
    "pbmc_df = mmread(os.path.join(filepath, 'matrix.mtx')).tocsc()\n",
    "pbmc_names = pd.read_csv(os.path.join(filepath, 'genes.tsv'), sep='\\t', header=None)\n",
    "pbmc_df = pd.DataFrame(pbmc_df.toarray().T, columns=pbmc_names[1])"
   ],
   "id": "409e1b17a7f3dcc0",
   "outputs": [],
   "execution_count": 21
  },
  {
   "metadata": {
    "ExecuteTime": {
     "end_time": "2025-07-10T19:23:07.332257Z",
     "start_time": "2025-07-10T19:23:05.674179Z"
    }
   },
   "cell_type": "code",
   "source": [
    "# Drop duplicate columns\n",
    "pbmc_df = pbmc_df.loc[:, ~pbmc_df.columns.duplicated()].copy()\n",
    "\n",
    "# Re-order based on iBKH\n",
    "gene_order = [\n",
    "    name for typ, name in embedding_map\n",
    "    if typ == 'gene' and name in pbmc_df.columns # IF gene name in (iBKH) AND gene name in (PBMC)\n",
    "]\n",
    "\n",
    "pbmc_df = pbmc_df[gene_order]"
   ],
   "id": "aa50a95d8d446989",
   "outputs": [],
   "execution_count": 22
  },
  {
   "metadata": {
    "ExecuteTime": {
     "end_time": "2025-07-10T19:23:09.902128Z",
     "start_time": "2025-07-10T19:23:08.294951Z"
    }
   },
   "cell_type": "code",
   "source": [
    "# Filter data\n",
    "pbmc_df = pbmc_df.loc[pbmc_df.sum(axis=1) > 0]    # Drop empty cells (all-zero rows)\n",
    "pbmc_df = pbmc_df.loc[:, pbmc_df.sum(axis=0) > 0] # Drop empty genes (all-zero columns)\n",
    "\n",
    "pbmc_adata = ad.AnnData(X=pbmc_df) # Anndata for scanpy\n",
    "pbmc_adata.var_names = pbmc_df.columns.values\n",
    "\n",
    "sc.pp.filter_genes(pbmc_adata, min_cells=4) # Gene expressed in <4 cells\n",
    "\n",
    "sc.pp.normalize_total(pbmc_adata, target_sum=1e4, exclude_highly_expressed=True)\n",
    "sc.pp.log1p(pbmc_adata)\n",
    "sc.pp.highly_variable_genes(\n",
    "    pbmc_adata,\n",
    "    n_top_genes=1000,\n",
    "    subset=True, # Drop non-HVG columns in-place\n",
    ")"
   ],
   "id": "ac95212342eefa56",
   "outputs": [],
   "execution_count": 23
  },
  {
   "metadata": {
    "ExecuteTime": {
     "end_time": "2025-07-10T19:23:15.607171Z",
     "start_time": "2025-07-10T19:23:12.859834Z"
    }
   },
   "cell_type": "code",
   "source": [
    "# Cell Type Labels\n",
    "celltypist.models.download_models(force_update = True, model = 'Healthy_COVID19_PBMC.pkl')\n",
    "predictions_adata = celltypist.annotate(pbmc_adata, model = 'Healthy_COVID19_PBMC.pkl', majority_voting = True).to_adata()\n",
    "cell_types = predictions_adata.obs['majority_voting']\n",
    "\n",
    "sc_labels_categorical = pd.Categorical(cell_types)"
   ],
   "id": "cacfeafbf057b47e",
   "outputs": [
    {
     "name": "stderr",
     "output_type": "stream",
     "text": [
      "📜 Retrieving model list from server https://celltypist.cog.sanger.ac.uk/models/models.json\n",
      "📚 Total models in list: 54\n",
      "📂 Storing models in /Users/loicduchesne/.celltypist/data/models\n",
      "💾 Total models to download: 1\n",
      "💾 Downloading model [1/1]: Healthy_COVID19_PBMC.pkl\n",
      "⚠️ Warning: invalid expression matrix, expect ALL genes and log1p normalized expression to 10000 counts per cell. The prediction result may not be accurate\n",
      "🔬 Input data has 4340 cells and 1000 genes\n",
      "🔗 Matching reference genes in the model\n",
      "🧬 563 features used for prediction\n",
      "⚖️ Scaling input data\n",
      "🖋️ Predicting labels\n",
      "✅ Prediction done!\n",
      "👀 Can not detect a neighborhood graph, will construct one before the over-clustering\n",
      "⛓️ Over-clustering input data with resolution set to 5\n",
      "🗳️ Majority voting the predictions\n",
      "✅ Majority voting done!\n"
     ]
    }
   ],
   "execution_count": 24
  },
  {
   "metadata": {
    "ExecuteTime": {
     "end_time": "2025-07-10T19:28:26.457056Z",
     "start_time": "2025-07-10T19:28:26.455235Z"
    }
   },
   "cell_type": "code",
   "source": [
    "# Get labels\n",
    "sc_labels_num = sc_labels_categorical.codes               # Num. labels\n",
    "sc_labels_str = sc_labels_categorical.tolist()            # Str. labels\n",
    "sc_categories = sc_labels_categorical.categories.tolist() # Category names"
   ],
   "id": "e8abb5bccd252b01",
   "outputs": [],
   "execution_count": 26
  },
  {
   "metadata": {
    "ExecuteTime": {
     "end_time": "2025-07-10T19:29:08.062706Z",
     "start_time": "2025-07-10T19:29:07.293574Z"
    }
   },
   "cell_type": "code",
   "source": [
    "# PBMC Input Processing\n",
    "input_filepath = 'inputs/GraphETM'\n",
    "\n",
    "pbmc_data = pd.DataFrame(data=pbmc_adata.X, columns=pbmc_adata.var.index) # Dataframe\n",
    "X_sc = torch.Tensor(pbmc_data.values)                                     # Tensor\n",
    "\n",
    "# Labels\n",
    "np.save(os.path.join(input_filepath, 'labels/sc_labels_num.npy'), sc_labels_num)\n",
    "np.save(os.path.join(input_filepath, 'labels/sc_labels_str.npy'), np.array(sc_labels_str))\n",
    "np.save(os.path.join(input_filepath, 'labels/sc_categories.npy'), np.array(sc_categories))\n",
    "\n",
    "torch.save(X_sc, os.path.join(input_filepath, 'X_sc.pt'))\n",
    "pbmc_data.to_csv(os.path.join(input_filepath, 'optional/input_PBMC.csv'), index=False)"
   ],
   "id": "967ae0fc6704031c",
   "outputs": [],
   "execution_count": 27
  },
  {
   "metadata": {
    "ExecuteTime": {
     "end_time": "2025-07-10T19:29:09.986369Z",
     "start_time": "2025-07-10T19:29:09.913518Z"
    }
   },
   "cell_type": "code",
   "source": [
    "# Save gene indices (for embeddings)\n",
    "id_embed_sc = [\n",
    "    idx for idx, (typ, name) in enumerate(embedding_map)\n",
    "    if typ == 'gene' and name in pbmc_data.columns # IF gene name in (iBKH) AND gene name in (PBMC)\n",
    "]\n",
    "\n",
    "np.save(os.path.join(input_filepath, 'id_embed_sc.npy'), np.array(id_embed_sc))"
   ],
   "id": "eabb0526e09663c2",
   "outputs": [],
   "execution_count": 28
  },
  {
   "metadata": {
    "ExecuteTime": {
     "end_time": "2025-07-10T19:29:21.027985Z",
     "start_time": "2025-07-10T19:29:11.611733Z"
    }
   },
   "cell_type": "code",
   "source": [
    "# UMAP clustering\n",
    "X_umap_sc = umap.UMAP(random_state=1).fit_transform(predictions_adata.X)\n",
    "umap_sc_df = pd.DataFrame({'x': X_umap_sc[:, 0], 'y': X_umap_sc[:, 1], 'cell_types': predictions_adata.obs['majority_voting']})\n",
    "\n",
    "# Plot categories\n",
    "fig = px.scatter(umap_sc_df, x='x', y='y', color='cell_types', template='ggplot2', width=1100, height=600,\n",
    "                 title='Single-Cell RNA Cell Types Clustering')\n",
    "fig.update_traces(marker=dict(size=4))\n",
    "fig.show()"
   ],
   "id": "d2866889daeff25",
   "outputs": [
    {
     "data": {
      "application/vnd.plotly.v1+json": {
       "data": [
        {
         "hovertemplate": "cell_types=CD14_mono<br>x=%{x}<br>y=%{y}<extra></extra>",
         "legendgroup": "CD14_mono",
         "marker": {
          "color": "#F8766D",
          "symbol": "circle",
          "size": 4
         },
         "mode": "markers",
         "name": "CD14_mono",
         "showlegend": true,
         "x": {
          "dtype": "f4",
          "bdata": "9/J5Qds/cEF3F2dBZplmQXr/cEEFgGhBWhRxQY6iaEGzEXNBNKRjQWWpe0GO+nZB3ZpmQRfSZ0F2wW1BqJ9oQSL4bUEC9mpB+MhzQfXFdUHDF3NBMsBmQRPxZ0EflWtBOutqQU1paEHmUHVBbrxoQYr1c0Hdv2lB1bJ3QVmGaEGBDGhBUkRpQWodaUHRSmdBiYlnQSq5Z0E9Q2dBrdZnQeEqd0GJTWZBCOlkQRdWa0H/h2RBkL5lQTk2Z0HkXnhBmTRtQV3UbkHrSmhBPhplQeMYaUFIUWdBUY5lQZMLaEGc7mlB7CZvQUT+ckHx9mZBG6puQd1KekHKc2VBcVxrQeBzbEEDlGZBwXFqQUE/c0GMDW9Bo6B3QeKOckHJtmZBHgdpQfN2ZUE+EmtBbh5mQR/uZkHOEmZBhzBlQX2iZkHjBnBBeOdmQU2fc0FAi2ZB4c5lQVPpbUGlWGZBMV9yQVxHbEF7kGtBrYZpQVlacEFaaW9BWLxwQWoPZEFva2VBLJVsQYjAbkHb7WlBy/5kQeoud0EZwmZBt69vQTqLZUG9Q2ZBrWhjQdZbaUETTWlBiDJlQRd5ZkHA/G1BRjJkQf5NaEHPxmVBLWp+QXz2a0EINmdBP350QWvJZUH2h2VBCG51QWwzcEFSKWdBC3VpQW8FZkEdYXFBPO1qQa3VeUGmqGpBeKxnQUsfZUHfE2ZBPfJ6QQcGdkFmeWRBhp9lQQ=="
         },
         "xaxis": "x",
         "y": {
          "dtype": "f4",
          "bdata": "FDX/QF7Z+0AaYAdBp7z9QPfkAUHNfeZAbGkFQXqLB0F0ggNBxH77QJg44kDvMAJBowsJQSpMB0FJqAZBLtIIQdE1CEHmogJBTs4NQTH9AkHkGwVBrH32QC5OCEFO8fFACeAEQd0DDEGztgNBQS4JQXdIAUEVwQNBvlLyQHCJ+kBz+wdB59MAQYAMC0EubutAvuwIQXjNCkEb2QZBZloKQezIBkEEj/FAZMz5QJlPA0Fg1f1AMHjrQCnWDEH4rf1APsHnQOJPBEGxBgdBNmP7QDyjBkHfnwhBkmkLQTnoCEH63ANB+UbVQDseCUFD4gtBRfH2QKqZA0FqrwZBtOcFQW6ZAkHt6gtBuxT5QIR790D8Du5AQDL6QLQl4ECDuwpBlZUIQcWj+EAk1fpAIKwDQTzY/EBEBf5A0aUJQS99CUFjDwZBRf4HQT7O6UDr1wtBS1EKQW/i20D4FwJBh18RQWnA+EAW+QZBKL0DQR26EEHjR+tAj5PvQIrf+EBc4ddACUwLQT/hAEEp5gxBxZ75QLizA0En+wtB2yn6QDY9/EDI6QZB6HUEQcLNBUGPuANBzc3qQC9c70BB7P5A9T31QHXfAEFUPAZBQmkAQbXLA0F6UgVBST0IQfll+kBy3gtBT1wNQTSzEUG2LeZAIPnrQFrRCkH71gBBlRD8QNpnAUErVg9BWtAMQfn8B0EoQv1AoKULQUn9A0HEzgxBB1X/QA=="
         },
         "yaxis": "y",
         "type": "scattergl"
        },
        {
         "hovertemplate": "cell_types=CD83_CD14_mono<br>x=%{x}<br>y=%{y}<extra></extra>",
         "legendgroup": "CD83_CD14_mono",
         "marker": {
          "color": "#A3A500",
          "symbol": "circle",
          "size": 4
         },
         "mode": "markers",
         "name": "CD83_CD14_mono",
         "showlegend": true,
         "x": {
          "dtype": "f4",
          "bdata": "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"
         },
         "xaxis": "x",
         "y": {
          "dtype": "f4",
          "bdata": "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"
         },
         "yaxis": "y",
         "type": "scattergl"
        },
        {
         "hovertemplate": "cell_types=MAIT<br>x=%{x}<br>y=%{y}<extra></extra>",
         "legendgroup": "MAIT",
         "marker": {
          "color": "#00BF7D",
          "symbol": "circle",
          "size": 4
         },
         "mode": "markers",
         "name": "MAIT",
         "showlegend": true,
         "x": {
          "dtype": "f4",
          "bdata": "Yg9xwPaOacCgsWnAeKhSwLYMdsBoIHDA8e98wGGDesBOQ23AsegXwLm5b8DDUXXAuzRmwNMvicAMLpXAYocQwKhYYsA05WDAqh4XwJyldcBJA2HAriFmwJXoEMBh727AqUm/wDPTgMCX8GbAsPAXwNGpGcCx42rAqA4RwKnAGMB2tVjAeEcXwANaD8CKh3jAqjMUwJO7e8CT9BTAZk2BwE/mEsAZenfAOL2BwMxKdMCuoRTAaGUQwCYWXMD1phrAqEtjwGtwacDvzWzAEesUwI9oa8B0imzAzAuXwHrzbsANvQ/AcbFwwCtXesCMzobADHAiwLsRW8AqljfA9JODwMxwGMAQvUzAaCdQwBWYHMAjw17AxNAXwJddFMBMumnAXypbwAh4bMApQmzAP6YXwCiNgMDTWBXAqYkLwO0oFcD14mDA+ZMcwFhjF8AyFmzAvcsRwGIYF8CQ0GbAbCWHwKFedcCc1H3ATPyFwNaDhsCUAGnAj02nwFkodMCeZ4HAboBUwLQ6bMB7RBbAlxpwwKZwGcAI8GDAUpWCwL5ZIMDlFwHAyl8ewKygFsBNtmTAFQl3wJHjD8BWzyDAt79zwAJliMAaGyrA4nwUwKBlGMAluJ/ARKkWwIQxGcAGdUPAc+wZwAbnc8BcqHfA1GGywNO5bMADvBrAiBEVwHEdGMC2wg/A5uEtwIjAWMB1mWTAxZKSwEIBfcDn3y3AXssSwEH6uMD0XxbAbm1RwOhtc8BZSVzAlVNhwH83FsCx+YnAzstwwNHsG8AmeBTAn+BNwA6ZXsAb/RXAwMMbwO2udcC3+l3AbiZwwDvMdcC1vRXAl0JgwFG7WcBEpX7AtV7owDANYcAXJwzA/XQ9wLjejcDWBRjAaIQSwOx4fcDC+RXA4pIZwKWJE8CKWl7AZQcSwDb8GcCqpCDAOBAUwK+ZEcA="
         },
         "xaxis": "x",
         "y": {
          "dtype": "f4",
          "bdata": "OzGYQJiMrUDZtJVA2nOkQHWIUkCiHbZAz5KdQKOYnkDKmZJA9NReQFlrqkBi4L9Ai2StQPMnsEC/5JtA/xRXQDY+nkDOK7hA90RgQEJIt0B34pZA7ThhQGavZEBmT7xArKPLQIgpqEA3aUlAWdpdQK3wV0DbbZZATPRaQJvwZUC7tLJAk4VgQC5YSkC5OKJA5MBcQHILrkBoK19Aa+GnQMZaVkA0NLhAotyiQLJ5r0DClltAmThYQEripEBTkmFAnVy5QCxvrkBTw65A9OFbQMeSs0DoAK5AWfe8QHHnq0AOzlZAx3afQAGbnUBQNqtAVFJvQGItuUCpcV1As+mdQOUhVUDXEI5AYu2SQMwpWUAEmKRABkVeQIh6XUAjMI9AqXS1QAYFpEDj+5pACzFeQD5noUC3iFRA4idPQEZWXkAvo65AQMFbQK7oYECH/Z9A85VZQMIBXUDtTpxASIOWQJSyuECA7aNAw8SXQPF/pkBU351ARLSXQGiVn0BA15xA0r9fQJF9u0Agn11AQCSjQECXYEAHAaBA5fqxQMVKWECSix1ARcdkQCcKXECyY41AUL+bQFzTU0DummFAmzONQNknkkDE22dAmfVdQEmOXEDT3LBAJIhiQIJtXEC+imlA3btjQJXVvUCrFHhA2xuxQCFctEACnF5AC0tfQA+RZkA3PVVAVP9nQJPTlkBwlaVAm1W0QEEHoEBHmHBAXutaQF9yjUA/yl1AAqyIQHTfu0Bd/LBACdSXQFuiX0Dajo9Aiuq2QI/2aUAvx19AZjaSQHrju0B2IV9AHRhtQONutEBs+6dA7/5mQJuspEB4C1pAXouTQM8VoUAK+Z9AmpujQCeNiEDzmU9ApuhGQBDjqUAUJVxALMZIQB/QoEAX1V1Atb1aQEChZEAPnrxADqNYQDoPYUDF3HlAiZZhQHQ9V0A="
         },
         "yaxis": "y",
         "type": "scattergl"
        },
        {
         "hovertemplate": "cell_types=CD4.Naive<br>x=%{x}<br>y=%{y}<extra></extra>",
         "legendgroup": "CD4.Naive",
         "marker": {
          "color": "#00B0F6",
          "symbol": "circle",
          "size": 4
         },
         "mode": "markers",
         "name": "CD4.Naive",
         "showlegend": true,
         "x": {
          "dtype": "f4",
          "bdata": "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"
         },
         "xaxis": "x",
         "y": {
          "dtype": "f4",
          "bdata": "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"
         },
         "yaxis": "y",
         "type": "scattergl"
        },
        {
         "hovertemplate": "cell_types=gdT<br>x=%{x}<br>y=%{y}<extra></extra>",
         "legendgroup": "gdT",
         "marker": {
          "color": "#E76BF3",
          "symbol": "circle",
          "size": 4
         },
         "mode": "markers",
         "name": "gdT",
         "showlegend": true,
         "x": {
          "dtype": "f4",
          "bdata": "R8yfwLLKrsBzFJ7A9mi6wLgM7L+W6Nq/fS3qv0la6b/WraW/OnglwMvApsAxH9a/bWnmvxwAUsAo3dLA8/e4wNRq2r+ID+W/rFJVwNiSz8DZL+u/emPiv+OF9L8TcOy/tx2owDsVksAxCdS/RSbWv3sO/b8vs+W/IHjYv9tVpMDBhdu/+oT2v31xwcASi+K/advtvzUA67/2FvG/kqXiv4no6L/CsdW/RfD9v4N1gsDBvea/g1bsv9nD3b9JMdPAd3eYwOat4L9kvGzAfLfZv/P+pMDEx8y/Vz/nvxCQg8AFAxnAIaTgv1ws0r84U6DA0v1QwIba6r/J7YbAERfwvzJFAcBndeW/t9WdwEwaisDvZaPAETbWv+io5L9hXdm/PBwWwPvDy78Sz/O/qkDfvxBk6L8MC5DA/5BOQRHnhcA8kYXALe8/wDodP8DGE93AZVzrvwdxoMAn+BTAXMt8wGiI5b9pZoLABoLdv/Exu78LfEjA0U/bwB1i4r8dibjAFhhzwMIA4b8Tjc2/L7L+v0o0mMAwkcW/SN7nv5Vy5r9vEUTAmrSBwO1R8r+ye+S/d3OzwIvU5b9FIKvAFPLVv/LHuMASt9+/fj3cwKVC5b9HrdzAISWjwERc6L+ADZbA8U66wNLMl8C+pa/Azd+vwMKSe8DlVtu/hsyIwDEB57+zmeK/7X7Vvw4oucA4spDAkHjJv7h5j8Coe4jA+ALuvxtKl8BqJ5bAgU/Qv6RG1b887pLAoUuTwEYO6b9dCtm/O4N3wJChisAA9p7AtTHiv+js0r/wlZrAD4vev4jPkMBHw5PApc3AwP7P0L8yZe+/BZD9v14xo79Ezr6/Y6rpv36367+h+ea/tAvdv143m8BHfKbAhuDsv4YTrsBKQtW/hB7YwDIrCsBMtti/wdXfwOip+L+h2dm/+mDivwPClsBDYJjA4BrQv1JQg8DamcC/Nq3sv2cG7L9S0J3AGs+TwG5jG8DWidC/8knuwLZPq8C3yOC/wO28wKHU3b+1tOq/JMH4v51vAcBxX7jAbintv8Am2L+3/+nAxmTsv6V3pMCZdgm/RkbxvxDD2798auG/Azyrvw=="
         },
         "xaxis": "x",
         "y": {
          "dtype": "f4",
          "bdata": "2bRnQFg7hkBqNX9APKGGQJKiEUB/F+0/Hj8KQHCOEkA3Nak/4EomQNEUgkADfuQ/4KICQLSKVECObIZA9uCTQDD9+T9mtA5AA9BaQEiVkEC9/gRAMWIIQEiMDkDlbxNAtEeKQIbkZECx8/k/KnXJP65H/T/YhgdA/Sv3PyC4gUDui+A/gewRQHmdlkCLdABAiiIOQDpL2T9r3xFAUwYMQHbHEUDSxN0/pxwQQGuQl0DAagRA3oMTQL1WFEDQFrBAiWeCQJr46T8lK7lANc3vPwQMhkAWh9I/WakRQJ6xX0AXolJAJWwJQELQ9D/OyIlA1E1VQP81DEB6A4xAazgHQOFxGEBS/gFANgh/QE4Dd0BKN4RAjVf/P50KCEDze9k/JXMTQPhr0T+/2g1AMUkGQIJpEEAsFnRA09l6wExpeUDZxGJAqMlFQFZkOEDA2n9Am58DQM22iUBzXFFAZJZHQEWSDUCVBZZA7ijqP2BWuT/+tEFAbPB5QDpOA0BrsYJAPwhpQNZcDkDafNQ/0asdQNCfeUBm7Ms/YB0QQFAACUAogz1AhSV5QOSXA0DxaBRAWRiHQMpuD0DEwItA/j0HQAcwh0DNKfk/frijQOeYDUAproxAw+CCQGA2E0ByhIZAb36cQMCUdkBtdIVAk7OpQJRyRECHoQpAMy6bQGpHD0Cbbf0/oGH1P74si0C5EnVAlZLQP8NKcEDSq3dA19oLQH1FaUCH3oFAW7PUP0fP7z8BuIlAxs56QLt6AkCYf/k/ElmKQCKyb0AtuIVAxVoFQMzC2z9drYJAsRwMQKRgeECQNntA+SGQQOyfxz9JBh9AIWcPQAn4kD/xbfE/fMYVQJYrDUAVshBApwXxPwujZkCeeYZANosQQBpIjEDrLOU/31/BQE76D0DCn+0/+GabQIBnBEC/zd4/f7fWP3QVeUAYfXlAblzIP1AZakB/IM4/+tUSQBebDUAO6XhAbz6AQA5iL0DpMe0/Wp6tQMOjikA17QpADM2IQOCRBEB4++Y/GQ4IQLOyGUA3mZBAkuILQKcM9T89r6FADf0OQHqChkAw7Zg/ygPjP3iLAUCotgJA3d+hPw=="
         },
         "yaxis": "y",
         "type": "scattergl"
        },
        {
         "hovertemplate": "cell_types=pDC<br>x=%{x}<br>y=%{y}<extra></extra>",
         "legendgroup": "pDC",
         "marker": {
          "color": "#F8766D",
          "symbol": "circle",
          "size": 4
         },
         "mode": "markers",
         "name": "pDC",
         "showlegend": true,
         "x": {
          "dtype": "f4",
          "bdata": "VAvnQK5K5kAlAOZA2UfmQAjp5UAIZeZAguXlQFJq5kBYaeZAgv/lQJMr5UBzU+ZAOi3mQFhO50DxdOdAUmPmQGKH5UAK8+ZAiHXmQKjM50DADOdAjWrmQA0w50BOPuRA+XLmQEbz5kBWxeRAMm7lQEVv5UDd6eVAYY7nQBZ65kBVjeZAANLlQJY05UCgLedABW3lQA=="
         },
         "xaxis": "x",
         "y": {
          "dtype": "f4",
          "bdata": "G+eiQbe2okEHp6JBT7uiQdWiokFWv6JBS6KiQfW/okGHwKJBdaeiQQhyokGHu6JBSrGiQYn6okFpAqNBhNSiQTOJokH13aJBgsOiQRMZo0Eh6aJBoMCiQe70okF4N6JBqcSiQfniokFpWaJBeYGiQQOCokGzoqJBeQqjQS3FokHRyKJBQJuiQcVxokFw8qJBZYGiQQ=="
         },
         "yaxis": "y",
         "type": "scattergl"
        },
        {
         "hovertemplate": "cell_types=DC3<br>x=%{x}<br>y=%{y}<extra></extra>",
         "legendgroup": "DC3",
         "marker": {
          "color": "#A3A500",
          "symbol": "circle",
          "size": 4
         },
         "mode": "markers",
         "name": "DC3",
         "showlegend": true,
         "x": {
          "dtype": "f4",
          "bdata": "6AB9QZocckHJSnhB1RZ1QRbwdkF09HNB3Ap1QRsDdEH39oRB6YOEQQ88fEFMfX5BETR/QaCEfEH4pnxBdHx4QTxOdEFV83dBhCl3Qf31hEErKnVBn4R9QSfEfUHU3oRBeLZtQbvwfUGKGHhB9Ux+Qbimd0FF8oRBglh/QY2OfUF/k3RBtMd9QbT0f0EXN35BI794QZ2yfkES8XxBssd2QXZufEGM8XdBuaN2QW35bEHM+YRB7Bx6Qbe5eUGoy3hBwhtwQX8KekHVbm5BbMt8QTxtfEGtQXJBDA5+QTmCfkG+eXtBxON1QXpteEE0/YRBBAl1Qcx6eEGFCIBBXfB1Qa3bfUEDfNrAF316QUEkb0H90XJBigd8QaKEfUEZUnpBoZh2QegzdUFaXn1BQAWFQa4FfkEVeXpBbfd8QexFeUH0wXhByxd5QUMye0EMUnJBAMB2QWkgfUFFaXNB/vyEQS7sdkFSunNBCgJ9Qe+QbEETW3RB4cN3QaXnhEFAqXxBfm92QUMifEEreXFBBhZ4QdUae0EfH3tBBLR1QY5NdkF3xW5BbZ12QYEKdkHqG31BCD16QZ34hEHG3mhBOSh4Qc9Xd0E/AHVBSoZ9QcLndUGt8nxBd2N6QWCid0HDIHZBSyt1QTEpf0He8oRBANB+QdZZfUFduXdBBRx/QTjLf0FiJ35Bg1F0QfeDfkFvXntBQVd1QZDZeEFsbnxBYQV9QfO6d0GIiHlBOCx8Qab9hEE="
         },
         "xaxis": "x",
         "y": {
          "dtype": "f4",
          "bdata": "4Ji/QJKg2kBqFsxAo17XQFth0EBCH+JANBbZQJAp20BuhJ5A1KegQCzFwEDmhrxAlynvQMFUwEBD8b9A9/bJQJyG6UAnV89A+OvMQMaAnkCwJt5A7wa+QLQ2v0DG8p5AvYDvQLYTvUDHJspAiVHpQC4CzUBTlp5AeYruQBgNvkDJedtAqTPoQB0k7EC17bxADOnIQKmYu0A1Z79AefTXQLEgwUCLo8tAk8HRQEXyAkFST55A2azJQN1HyECBT8dAPZbhQKC6xkAvLP1AQI6/QMCgwEC9wtlAwem8QMVT5kBHzMJAoBTSQPTxykAvWZ5A66PSQA8HykAsC+5AOMfuQMm7vUAHcgJBa6rFQDc540D9PN5AQ1PBQPbSvUCiasVAPUnhQPQj1UBDXb5Ax0CeQA8AvUAbd8VAvA6/QCaRx0CV4slAvDPIQDXnwkC2EeBA43nSQNVvvkD/fNlAGlqeQL1OzkCYuNRA/yq/QLEZ+0B7/9tAykHLQG7JnkAcUr9AzqXQQAia00A0jOBAFE3LQHSozkASnsNArtPTQAmN0kAO7tpAVC3TQPBaz0DrX9NAQ53FQLV2nkAeawJB0QjNQMO/z0B48dRAFwO+QLt900CHVb9AuTHFQKaIzkAoR89AKz7gQAmnukAZkJ5AXX/pQP9AvkBHK9BAOuG6QHk/8EBsrbxA9iHlQDwMvEBaqMNAsQLYQPwByUDbp81AYKS/QHPgzkCwOsdAAgnBQORgnkA="
         },
         "yaxis": "y",
         "type": "scattergl"
        },
        {
         "hovertemplate": "cell_types=B_naive<br>x=%{x}<br>y=%{y}<extra></extra>",
         "legendgroup": "B_naive",
         "marker": {
          "color": "#00BF7D",
          "symbol": "circle",
          "size": 4
         },
         "mode": "markers",
         "name": "B_naive",
         "showlegend": true,
         "x": {
          "dtype": "f4",
          "bdata": "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"
         },
         "xaxis": "x",
         "y": {
          "dtype": "f4",
          "bdata": "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"
         },
         "yaxis": "y",
         "type": "scattergl"
        },
        {
         "hovertemplate": "cell_types=CD8.Naive<br>x=%{x}<br>y=%{y}<extra></extra>",
         "legendgroup": "CD8.Naive",
         "marker": {
          "color": "#00B0F6",
          "symbol": "circle",
          "size": 4
         },
         "mode": "markers",
         "name": "CD8.Naive",
         "showlegend": true,
         "x": {
          "dtype": "f4",
          "bdata": "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"
         },
         "xaxis": "x",
         "y": {
          "dtype": "f4",
          "bdata": "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"
         },
         "yaxis": "y",
         "type": "scattergl"
        },
        {
         "hovertemplate": "cell_types=CD8.TE<br>x=%{x}<br>y=%{y}<extra></extra>",
         "legendgroup": "CD8.TE",
         "marker": {
          "color": "#E76BF3",
          "symbol": "circle",
          "size": 4
         },
         "mode": "markers",
         "name": "CD8.TE",
         "showlegend": true,
         "x": {
          "dtype": "f4",
          "bdata": "V81AwDFbM8A2OhjAZu82wJwqTMCsOkLAJQE/wP3PO8BLKDrAHTE+wJuuP8DbkjfA1ZtEwL6nP8BwJRLAB/I8wOR3PcDCQTLAqmhPwDTNM8DBwjXAVWo+wGvBTsAmDyzAZXpFwPPPM8BoszPAoCoywCk5McAByTzA0QQqwBNJM8D/fzvAIag/wJakR8B6MkPADFw1wCemEsBDtlbARV40wCNwRMD6xTnAkec1wBtlMcCbiEvAju4+wAOBNcBAZjjAvxwzwAN5P8BV8T7ADQg1wHliO8BxzTbAyhE5wKlKOMDmzjPAWhpCwAPRNcApLjnAucg2wMJ/QcA="
         },
         "xaxis": "x",
         "y": {
          "dtype": "f4",
          "bdata": "vfgUQMAgA0AU0wpA/AwTQJwaGUDUGRVA+3QlQDA/H0CrtAtAH5oXQOs4FUB4RzBA5VcOQOIDDUAYqQNA584PQJjaC0CLQANAEgUSQNaaCEBgJQFAaWMPQPZMJUDQmgxAcMASQCm4BUAowwVAdj8JQKB9AkD+ExFAXPMKQKxmA0BXjA1AR5kSQJrQGUCwsB9AXGocQDhq+T/3JChA1soGQGaPEEAUIAlA4SgFQH+NAkCK3xhA0LULQK5REkB8EwhACXUCQGNGL0DLjApANS4iQEwbDEBLmAdAZ1kHQE4iCkAAQgNAePAdQA9wB0BU6gZALQQCQHtKDkA="
         },
         "yaxis": "y",
         "type": "scattergl"
        },
        {
         "hovertemplate": "cell_types=CD8.EM<br>x=%{x}<br>y=%{y}<extra></extra>",
         "legendgroup": "CD8.EM",
         "marker": {
          "color": "#F8766D",
          "symbol": "circle",
          "size": 4
         },
         "mode": "markers",
         "name": "CD8.EM",
         "showlegend": true,
         "x": {
          "dtype": "f4",
          "bdata": "uA3OwPcsgMAoKG/Anq1iwCteQsAXyIPAqARJwCj30MBqBWvAa7diwDo4asDCQVjAxvRowFSTUsAdsUPA/354wEcLQsAN8KbAq8RuwBx0lMCGvmLAFxV7wNVwfMCrqW3AFN5BwFskbMDRrXDAkTFywBFPbMAt1GbA/aSCwPoXEcBh6SDACJxHwLMZVcCIVsXAHDxRwHXNZMBXO17AV8lpwB2lRcBI0szAbJp9wB7Yq8BYG27AMuxbwEYyQ8DuBHbArARtwHPFYsD6yl/AKvBXwKD4b8AXsGvAWvhpwJTFg8DdHnnAJZJzwI313sDJJWvAeMB2wDBUc8CABUzAv1ZUwIDPUcDoqVHAAJZ4wH4LfcDV+ovABb5pwNtgc8BJO3bAVStuwFLGdMDmjSjAR8ZbwPdabMBVPSrAyfdkwHFvasBSgHHAzgIowMeWJcD3dbfAJT5EwCLxZ8AZaT7AeniJwAgtd8CCuaLAKrQewNfcg8CkTYjAG7JswMuSaMAgfD7AdOf4v/ISb8Bn+WLAmdWrwNIMT8AIuFzAWu9JwOTGdcBD+m3AdS49wPLDZ8C2qWXAui9rwDllisBnT3XAxux/wGaBdsA7XVjAK7BcwJIbacBts2HAZjfQwC1bXsCZemHA7MRFwEfGa8AMdVHA1zd6wNBfP8Ah5YHA3OlnwPoeP8AGFD/AZDV1wHyZPMDqX3nAAPx3wNjKgcB1CTvAl+9nwGnBacCbkIDAydVwwMPuY8BXO2fAldhgwK4KPMCRr17ACut8wAB3asCda4zA2wPVwI/RX8D5uPa/1aSFwLoIY8BzUDvA5NRTwF9Mb8CqK8nAwc9SwNVltMCINXPAcXq+wFL7UMAXwmjAJ6dUwO3kY8CtEW/A8S5rwMxshcAC02jA5GkSwIhbcsBcOG7A0A5uwJfcTMDYQ2/A+0OqwGdyaMBEdnbAN9xQwOh+kMB72G3A3hCAwHMGfMBeHQ7AxUFfwCBRQcAjYHXA41xtwNcrWcD7W37AeNhdwNMvNcCRHWzA+KWLwJ1DPsA2D1/A0KtRwBURLsByKWvAkTJGwGKTZcDQbSnAdkxiwMmmi8AJWFrAEKJfwG7Zc8A3sWzAJINuwLgFUsCd7H3AmHxuwN7WWcAnVLvAIEk0wNcGb8DjW3LAsWd0wIDlbsDGyh3AQ/CBwISIVsCAcSfAwRkywNiPMMCGzX/A5W8/wEQJXMBd5gLAdvSMwNrYaMDD2hbAu5SywKnfbMCx0mnAtHs+wC4WjMAV1HjAs7wlwFNCbsCxxEnACoxqwEepZcCK7WPAL/FAwJH0a8DTQYLA99VowAYyNsAhhSXAzGxqwONSaMBOjovAOwxgwFgWfsAiyu3A3bFvwJMLOcA7qiPAPpiBwKMEgsDdrmDAyLiUwDXDQsCj1T/AaoNbwHy6xcAZoXfAH4d7wHjlkcBHlPa/vdklwC2FQMDlGD/ANPdiwJNjjsD2jG3AVTJRwLuaccAdUm7AKhBpwPYKkMCwdjvAS/SLwDuHW8DO81XAuUROwFKjfMB+jVfA5sB2wA=="
         },
         "xaxis": "x",
         "y": {
          "dtype": "f4",
          "bdata": "aA+MQG6euUAm6jpAa6YtQCFxGEBoOmBAsEAdQGpir0B7S0VAqwVJQFkBKUBO6idAM+wtQJRNQkC/OhtAAshDQEq1OEC8lqZA+Ng1QBdhiUDB76NAyTtpQD8PV0DzijFA9uA5QIHfNkBpYTRAYFc2QIATokAWoyBAahZpQNvKQUCiURdAoQEXQEJyJUAMuYdAausXQO3cPkCvWTFAN9xjQJA7OECCDoZAU8tUQIvHk0AWuXlAxpYlQAl7PUCL7F9Aywg+QAeJJUDfdkRAaDIpQBKZO0AGKzlAjgM0QNWOZEAoUpRAdYs7QDrgjkBzlThA4mVGQPm7RkA4lSZAfy0UQHPtJ0DyqhdAvodZQFQCRkDuoF9AjDI0QHAOeUDbsktAqIA5QP84O0DegxFAhcdcQLkONEBTiGlA2doxQMXoRUCQc0pAq/dUQEpcWUCVEYJAuMU+QLoVT0C5OTVAEHVzQMNYREAgK3xAZvBSQDA7dED5J29AU3MuQEeCNUBwbiNA+yskQGFER0CwVIhATLmuQOoiJkC1+C9Ab0M4QDXuPkDPxDVAGSo3QBGwL0Ao30RAePo7QPLsbUBx3TxAVt8/QMy1QEDnwz1AIWcmQM2kZ0CcGyxA30OvQGxoJED//2RAWitKQJbGR0D6xUhA7iVXQIKuPUD0wV1AoJ0lQHxkM0Ci5VFAAw5BQCcUN0CgQG1AtQ48QNxWUUAWLzpAqhs1QNStS0BBGW5Anv1GQHUrP0BFpT9AUegmQGtYYkDueSxAK5pFQInKM0C8i4RAcJuNQCiiM0AIZhdAL4JzQEuZV0C4cTlASZEWQPCEQkC77o1AR8sZQPIcgEAWsT5Av8WvQCupHEBF+ExAX1pmQEsyJkCMRjlAF5VHQGb2eEDKLjhAiOFUQKNIQkBr9jpARIePQB8EHEBlTThAXVZxQLWGJ0A54D9AdZs/QOYDeEDIDC1AeN9LQMF8ekAqFjdAf1ooQGlvQkDsAkxA9bA9QFfgM0BuZkRA/qg9QDVdNkDJaDlAWjxPQAI7EEALtzBAAAsnQLPlF0D60jZAYdtTQCUxLkCBkGZAgOQrQKAgjkANzyxAI+BmQC38RUC3xzVAdoo/QKFqLUBH4YRAJMg7QI5TIECyH3lAkS04QL1yN0C90UFAQ1s9QK2KMkA1jxNAUPOzQM0YFUDqcQ1AqplaQMMsDkBQGEFAejwjQHgRKEDJWSNALttlQPglNkBmTkhArEmLQGSIOUCSJSxADnY+QIxpikD4ijZAjxgSQA+gM0AM0DVA4XglQOo8S0CJczBAXTpAQEaLPkC4J7JAMFQ0QF/REEBBlCtAJFMqQLMkMUCtN4hAG7svQLybUECkJaVANntIQEXnCUBVW01AXfhtQITbWEDbJylAJlhTQJuhRUAz6w9A3pWbQLwJikBDwkBAlxpoQI7yp0ADKgpAv/sTQFL8EkDEpwtAvCcvQCtbcUBC8TxA7vc4QOZhmEDu22lAD8U0QNyudECX3AtAk0ldQHpwH0DKthZAz/opQPsIQEC57x5Aep4+QA=="
         },
         "yaxis": "y",
         "type": "scattergl"
        },
        {
         "hovertemplate": "cell_types=NK_16hi<br>x=%{x}<br>y=%{y}<extra></extra>",
         "legendgroup": "NK_16hi",
         "marker": {
          "color": "#A3A500",
          "symbol": "circle",
          "size": 4
         },
         "mode": "markers",
         "name": "NK_16hi",
         "showlegend": true,
         "x": {
          "dtype": "f4",
          "bdata": "Lo85v2uoeL8ySFm/VaGYv16/l7+eNGu/5Mhsvym9kr/W8ja/glCXvzRQd78pmXy/d1BCv7MQk7+f7HW/ccQ0vynbIL/ZFoS/eyd3vwy8ar+nzIW/PRBYvxvgZ7+mgzW/xJ5dv9yvR7+rOVq/99RqvxAfh7+KS1i/qlXUv42iTr9Jw3e/xvCCv5ynW7/B8Vy/aTtmv+89br88doi/KI2AvxSBTb8BcIW/wHV2v4TOXb/uyYS/vqyCv2IgfL+tVXu/bpmIvyhdUEHLNJ6/sZ9/v17kib/LNY6/oE2Av9TciL8hOnC/OBN9v11AXb/+zYm/0lw4v8MGe7/U85O/s9xHv39ta7/RBYG/SYNLv0ZiiL/ijJC/c1Vgv5/WQ79TJny/uVyOv9OqrL/fZ2y/hh55v92NW78u4Tm/P9KOv+tvhL893pW/1e1Uv1Crbb/i14O/tJxxv8R+c78SbYO/lxZiv4Yxdr8KcGq/Ck00v3Tvgb9GLWu/2PNrv3gwb7932XK/Q2xcv/xkg7+oSIW/Wilkv5UokL8Zd2O/2MJPv8JCWr81p2W/iCyLv22DdL8P+WK/wyaMv4YmjL+tWp6/lGoXvxJXhb/Gzny/smSLv/clZr/lGIW/PnlPv71jer/I1Jy/z9Zfv1Kdc7/nt1y/auxov5PbrL/X3Wi/RQtZv6foc78lZnS/9ftav+zehr8oZFa/U/6Fv/tZUr/AGYW/sr1zv6ugB78wu4S/+Umav0drXb+PZ3e/TteCv+B3hr/c/3y/C2iOv5+OXr836pW/kXWXv/vngr/HsY+//dBOv2imRr9LtIi/tw5xv/NObb+7T3W/ct2Qv0r8i7+bQW2//DSCvy5chL+OeHq/BEaOv2SNkb9HaY6/lM0wv4O2jr9tWY2/yQF7v5jdY79Z/V6/"
         },
         "xaxis": "x",
         "y": {
          "dtype": "f4",
          "bdata": "GH+CP2DJHD9gQQg/9O4oP09sgT8+nA0/BcUSP1wIST+q1no/NbJ9PwYyCD+Es2E/CUkUPxyBij+KaCI/8Ct8P/3ncj+2LkM/vFIpP6FwDD8unhA/EoMLP17srj6UOYE/lHwfPzJoSj8IwCY/cJlrP1ZjVD/EgxE/WmDUP3LSIj9VhlI/QGBZPw4s4T60hCw/8/53PyGJSz97STY/fYPuPnibgj9O4gk/sOz7PruTRT+qZ10/N1g+P3F/Lj9lrkY/rFr8PowGgsCDLow/DcQdP3b1GT9AcYU/gQn/PhWihj92eAE/ZwFwP+gzAz+F5lU/isNzP3sxjT/19Cg/4/MKP8r2Mj+f5fY+r1eBP2MxZT/zCEU/pg0GPx/2MT+xyXk/VdxcP7e+mT9IyfI+4ZT2PiV2XT8Bx18/CLGDP5I02z7Ho4o/WGsWP/YT4T6rK24/qmsBPw03JD9WWQM/5ipSP1a1BT9wTDk/XmQ9P6qOVT9QAnM/ECIcPxg0BD99DQA/3iE0P0d3WD/Vw0Q/vrPBPki/iD9b8tM+RVpZP617Oz+lQuQ+CnOVP3jYHz9LsDM/dl5wP3jgej+zU0Y/eeCYP3JsWT95XQk/wPbKPgF9OD9Yd9k+yiJHP0JEjT/JyIg/blc5P+eSxT75HzI/JGwLPyCWtT9JF3E/P6FvP7ss8D6T5Xs/+Z8NP5N9Bj8ClB0/Zn5hP/pxwT6FtO0+j+LvPqTsmT/yh2g/E6OJP36IMD+SL9g+mboQPzLmKj+jHwk/h8FAP8rV2D7M5no/MPCCPxfsDj/yzXc/iMUiP4T4Dz+Hpy4/s04IPwVzLD82gOk+/fdPP0n4Hj9vNMU+8EflPh1KKD8IEGU/QR8lP+EFMj8+/jQ/i1h6Pz4Ogz+pJPk+LWJmPwA1Vz8VzIE/"
         },
         "yaxis": "y",
         "type": "scattergl"
        },
        {
         "hovertemplate": "cell_types=CD4.CM<br>x=%{x}<br>y=%{y}<extra></extra>",
         "legendgroup": "CD4.CM",
         "marker": {
          "color": "#00BF7D",
          "symbol": "circle",
          "size": 4
         },
         "mode": "markers",
         "name": "CD4.CM",
         "showlegend": true,
         "x": {
          "dtype": "f4",
          "bdata": "C21mwHN8dcDWmnTAAjNtwEWvfsCt+HfAiedwwCC2c8DpmYDA6Qx2wMy5c8AS2WTAsdmAwNApb8AkMlzAdB96wH53fMASbWPA//6FwHpuhMAemG7AwyBvwCxUeMAhcGzADchuwMmgW8Ai2HjAYb90wMiuZcDZUm3AwW2fwK31i8C6TGzA/xGAwDCyccCDkHfAtyWSwBwwcsDmZ3LAYmprwHQXd8BJgXLALuZbwOkAacB+bHTATHluwO0/bsABKWXAQxZxwKTkY8BR7F/AzGKBwMP+d8BD3XLACVh1wAnRj8BX53XADDFkwP3xY8A/inDA7HV4wOQXecARo4DAwlqFwI6oasA5BEfAyk95wMH1fMC204bACz13wFY0fcA4CHPAFSJpwGd8XcCJu3LAaDSEwJu0c8Bt6X/ApGZ8wFlrhsByOG3AzitswADXX8AlSXbAIkWEwCh3XMBdYl3AD7WPwOBfr8AuKGDA5AhywMqJh8BF0XjA8R58wAD6a8BUaFvAUdiLwBNLcsDqBXnAusepwIFlwsDGloTASC+BwHbsdcDFbGDA0Q5swBOEdMBLC4HASmF/wHtlacBB/YLAS/CBwLjNg8BYoo/AFkJswDpycsBC717AGLtwwMU0Y8B1dnHA+4JnwI+wbcBofnTAT+l5wLs5gsB9cF/A9HNzwJ+8XcB6h1nApaiHwEDLc8C56mPAurx3wEPCXcClsmHA6Q2PwHb1icAxE3rA0raBwB8NesC1Sm3A1IlxwM9Ql8C7DWzAW+twwCVUv8CBkGDAEFmLwCpbwsCu/GTAi6V0wNwPdsBko3fAzy19wHfhksD4mGvANj6cwDAkYcCkLWXA8N9owGrKbsD2hnvAhYBpwFmca8ADQHDAHxSMwBcEiMBUFFrAASmEwHy+d8DHcIDAnyVwwHd6YMBNs2bAsnluwPjJZMA60XjAwktswMRWhsBvJXXAmsJYwMFpbsCkMIDA/JB1wMt7fMCjBmrAwvNvwEUCacBXe3LA3mxpwExtbcDeVnrALRprwP7WbcAvrWPAiqxywAmBg8CZ+17AKMyCwCjBhcDKGl/AVH1uwPC4gMDfUm/AFm2AwFXtccDqWlvAK2puwJBdZMAvKGPA1RqBwHppe8AVMn/Af+5+wLP7c8DQAJLAyeRpwANfhMAbImTAD015wPAcXMCH8nfAGW6bwIUhecCuuXTAZ2BnwHnKY8DBj4TAFY2FwJb5V8CfKW7AxJp9wHvEYMAXYnPAakVfwE5Oh8CBdorAxuCdwLZjgsDgTHLAbEJtwLpjY8Coi3fAzMlowFZjisCqOIjA/il3wBLZmMAQPWPA6X92wICzZMAKdmnA"
         },
         "xaxis": "x",
         "y": {
          "dtype": "f4",
          "bdata": "bkuzQFijpUCrKJhAbFuoQCJAk0C69qhABN2eQP+lpECdY7ZA5Vy6QPiPpEBKo7FANhe8QGwiskAq5LBAIKSuQFkMu0ACULJAWuuiQAxprkCH6qVAivyiQMTQskBrOLZAyCeQQBr+t0B5Fp9AQ5CvQF0QskAXabdAL5C0QKT1nUDpcbpAes6oQB9AkEBDVrtAIXuhQM0fpEAkraFAEJCeQDglnECa7qFAcHYiQHi+s0Czv5FAzYW1QGvmqEA1hbFAsiy0QArHs0DeCLJA6ympQMAbnkDHR5ZA8k+lQJhfm0D3y6lA2NC5QEYNtEDHBKRASXKrQDLYlkDbHKRAgxueQAgaskBZqUBA1zWkQMqwtEByurJANd21QK84qUBGxrBA6oizQG6frkCTqKBAfTOZQG6cn0CK7pBAEWy5QKfmpkAEp65ALUCgQLg/tkB4RqVAFn6qQCGur0A/ibNATgGkQObcsEAfurZA70mjQLiIpkBG2aZA9XWeQGtXrEArp7lAx0imQJN6sEDyfaVAEjeZQPqUsUDSLqpAEtmtQJTEpkDdeLxAZbqjQGegoEA5H7FADjqlQD1qo0AZ97lAXFe4QMPMrkBcH7FAvvioQCfTkEAIZ61AxJmwQFPCtkDTYbdAyW+7QFelvECXibBAns+jQEVAokB7D7VAy6CjQGL7tkBWAbVA3KGUQMadlkCskbRAH1u2QMtyrUDu16xA/EaoQPwRpED/SaJA6Tu1QJVMq0DJgaNAGD2QQLx8oECSirpAzf2wQGYgxUDVULFA/UjBQK9VvUC57bdAur6eQPQ6uEDSk7xAj166QJKDnEAgsKxAyrO4QJM+t0C2S6pAG/S0QLuuv0CBI6NA9JiwQAK+tUBYFptAb1WmQCbro0D497NAQQ6kQNmouUD9lp9ABau+QAbIqkDgRrZA9ZayQIT6o0CFlbZAjta+QMjMrkC3lqVAg8KrQCDOo0BWyJ5ACrCwQJhOoUBe0rpAQ+i3QE7ltUA2w51AiJC1QLJmu0DQk7xAfvSwQGP+qkBvPrtAG8aQQDxZukCPzrVAuXCqQKkpukAAD6dAj0ejQH+cqkA91b1AQCiyQH7ntkAodLVAlHyNQJj/qEBU4rhA272iQDyZvEAvT6RACdmsQOFgpEDQVJlA0mW3QPJeskDjOp5A4Nm+QCP0tUDNtsFAuZC4QMyZm0Aln51ARnepQCrirEAvjL5AjG26QC2KtUDre6NAkGGfQM17vUBNpaRACu6rQL6DnkCaiqZAU7+jQEeeoECe66dAQzyzQOLttUDvOL9A6ceoQC/Lt0Bhyp9A8FGbQJTHrED7WKxABVKtQD3Bt0D3mqZA"
         },
         "yaxis": "y",
         "type": "scattergl"
        },
        {
         "hovertemplate": "cell_types=CD16_mono<br>x=%{x}<br>y=%{y}<extra></extra>",
         "legendgroup": "CD16_mono",
         "marker": {
          "color": "#00B0F6",
          "symbol": "circle",
          "size": 4
         },
         "mode": "markers",
         "name": "CD16_mono",
         "showlegend": true,
         "x": {
          "dtype": "f4",
          "bdata": "HT9bQU8nYkE0PlpBm6lgQTD8XUFad1tB+w5cQSJIXEHvo1tBraNbQUR8YkEgl1tB0vRdQf4jW0FpN2JBLkJcQTS8YkGnfFxBMrJgQYbRXEGdDWRBct1dQXOxW0Gqi1tBkXpcQTgwW0GBsmRBn/paQYw3ZUHcWVtBna1fQYcaWkHym2JBvZBaQbjsWUHWE11BfzFcQXgCW0F881pBTtleQS8vWkG++VtBcKtcQZBiXEH3nFxBlHlhQetHWUGoZVtBMiZiQRnMWkG6i1xB+w9cQceKWkEr511BzFlcQbxEW0FLtV9BJINfQVZbYEGk/FxBP6pZQbYqXEFjIGJBTvhZQXzcYkGIGFtB0Q5lQeK+YEF8PFpBg/VbQeVqWkFJylpBrAxcQYZPXUHtG11BGJ1cQX6JW0GoEGZBqYZaQXCQZkHU9ltBCtpbQVShXkGIrVxBk7VdQcGxXEE1lFtBfildQbLsXUGJDmJB3qNZQUJaW0GsSFtBJThdQdZtXUE96WBB3TlbQUCWXEHJIlxBi+JZQae1YEFFomBB1RlaQSB9XUGYT1pB4ttdQcL2Y0H//FpBrpddQa0ZX0F3flxBWEVjQa15XEFM8lpBtyteQQ=="
         },
         "xaxis": "x",
         "y": {
          "dtype": "f4",
          "bdata": "P02zQGuawUCmlLFA0OS+QD93uUBCCrRA6IuzQHxqtUBSKrRAHFu0QAlaw0DCNbRA2hu5QJ98r0CaXMNANFi1QPitwUCqPbZASVzAQNjptkCCIcdANEm5QC3NtED0/bNA2Du2QL3uskAq6MdAE0yzQIfezUCnvbNA2PO8QNtzsUA9QMFAxj6yQNHDsECGe7dAAF61QB2Ys0BT87JADu26QFlHsUDAS7RAbUm2QJPttUAYm7ZAk9q/QGbEr0CFyrNAhKLAQMBEskDiM7ZATf+0QIfSsUAQaLhASm6zQCFFt0Cnmr1A1p68QG1Kv0Cg7LdAE/uwQAMgtUDGqMJA3OmwQM8wx0A/h7JAqfPFQPSgwUAtSrFAgFS2QIYfskAUqrJA2RO1QCJPt0BWNbdAUwq2QF77s0CynMJAQxSyQO5IxkD5wbNAFba0QCjZuUCdYbZAb7i4QEEluUAc5bNAfua3QAytuEDelMJALHywQPmstEAqdbNARF+2QCPkt0BpX8BALpazQKydtkBqV7VAjKSwQJM7v0B1h8BATDGxQFh7t0BpNrBAFLy4QMJnyUCY8bRANAu4QN/Yu0C59rNAHmLAQBHltUD+ELNAkgG6QA=="
         },
         "yaxis": "y",
         "type": "scattergl"
        },
        {
         "hovertemplate": "cell_types=Plasma_cell_IgG<br>x=%{x}<br>y=%{y}<extra></extra>",
         "legendgroup": "Plasma_cell_IgG",
         "marker": {
          "color": "#E76BF3",
          "symbol": "circle",
          "size": 4
         },
         "mode": "markers",
         "name": "Plasma_cell_IgG",
         "showlegend": true,
         "x": {
          "dtype": "f4",
          "bdata": "x1lSQfXLQ0G+IVdB5b9UQVjMRkEjoFZBhTdXQfbZRkFGkldBC/dWQUpbV0FQZkpB4yZWQRkjRUFUNFdBvTRMQbLQQkF82lJBvtVXQSVOQEHgm0dBUExUQbMISkHsVVdB849WQYTTVkHW/khBGMw/QUVqVUEq+0RBGjqGwAKpQEF2ulRBYaJVQQ0OWEGdKEFBqAFIQa0RSkFy2lRBarhGQdadV0Gi91VBclhXQQO+QkGepVdBiVBXQUAYRUGbsFNBCXxWQWoDUEE="
         },
         "xaxis": "x",
         "y": {
          "dtype": "f4",
          "bdata": "EIGRwP80dMDWnonAC3GSwP3eecCkUY/A8NqKwArvgMAQt5LAFISKwPt8j8CiuHzA2iaWwN1yeMAQJozAzImBwI/sbsAFp6HASYSOwJJxgsDHR4DAU/6OwKT7hMAvH4vAEkqOwPAljsCxNXTAtjF9wAkmnMAZ83fA09eWQDTceMB4q47AQ7uJwK5zjMBhQ4HAy7d6wKAyf8Do1IzAZBJ1wGnOisCT0YrAW7iHwD5rdMDxg4rA2cqJwDm0g8CwPZPAQrOPwB7gm8A="
         },
         "yaxis": "y",
         "type": "scattergl"
        },
        {
         "hovertemplate": "cell_types=Platelets<br>x=%{x}<br>y=%{y}<extra></extra>",
         "legendgroup": "Platelets",
         "marker": {
          "color": "#F8766D",
          "symbol": "circle",
          "size": 4
         },
         "mode": "markers",
         "name": "Platelets",
         "showlegend": true,
         "x": {
          "dtype": "f4",
          "bdata": "tU9eQYqgXEH6g1xBifh4QWWCXkGAe2VBO6lmQe2KXkGOnXDAHZtcQfxSYkEsRV1BUsBcQbNuZUHAVV1BextfQdzh4MC1DF5BZsBeQQ=="
         },
         "xaxis": "x",
         "y": {
          "dtype": "f4",
          "bdata": "f7/XQJD21EBaAdZAA98GQYaS1kAl2d1AUCHoQFhe2EB3F79Au/bVQHNm10CUUtZAe7/VQIGh3ECbpM9AitbTQMz4v0C3+dZAMLHXQA=="
         },
         "yaxis": "y",
         "type": "scattergl"
        },
        {
         "hovertemplate": "cell_types=HSC_CD38pos<br>x=%{x}<br>y=%{y}<extra></extra>",
         "legendgroup": "HSC_CD38pos",
         "marker": {
          "color": "#A3A500",
          "symbol": "circle",
          "size": 4
         },
         "mode": "markers",
         "name": "HSC_CD38pos",
         "showlegend": true,
         "x": {
          "dtype": "f4",
          "bdata": "F33bwJYs3MARTtvAr13bwJB928BgKNvASmrbwBSpfEFx/trA"
         },
         "xaxis": "x",
         "y": {
          "dtype": "f4",
          "bdata": "uSoDQWeTA0Gh8gJBlRUDQe09A0GY3AJBQR8DQTfP60C68AJB"
         },
         "yaxis": "y",
         "type": "scattergl"
        },
        {
         "hovertemplate": "cell_types=NK_56hi<br>x=%{x}<br>y=%{y}<extra></extra>",
         "legendgroup": "NK_56hi",
         "marker": {
          "color": "#00BF7D",
          "symbol": "circle",
          "size": 4
         },
         "mode": "markers",
         "name": "NK_56hi",
         "showlegend": true,
         "x": {
          "dtype": "f4",
          "bdata": "p8wCv9JxBb8yhgO/BL4DvxHqAL/FxAS/h/EGv7tFG79p8wi/o7AGv86dC780yhu/X3s/v2IsB78oGRG/FqbVwNVpAL9hKfy+"
         },
         "xaxis": "x",
         "y": {
          "dtype": "f4",
          "bdata": "uFyXP9i5lT98CZc/HRiYP1v7mj88cZg/cXKaPzbzmT/5c5c/4POTPw9bmT9VH5o/fR6cPyJKlj85VJk/GOVwQBBrmT+fx5w/"
         },
         "yaxis": "y",
         "type": "scattergl"
        }
       ],
       "layout": {
        "template": {
         "data": {
          "barpolar": [
           {
            "marker": {
             "line": {
              "color": "rgb(237,237,237)",
              "width": 0.5
             },
             "pattern": {
              "fillmode": "overlay",
              "size": 10,
              "solidity": 0.2
             }
            },
            "type": "barpolar"
           }
          ],
          "bar": [
           {
            "error_x": {
             "color": "rgb(51,51,51)"
            },
            "error_y": {
             "color": "rgb(51,51,51)"
            },
            "marker": {
             "line": {
              "color": "rgb(237,237,237)",
              "width": 0.5
             },
             "pattern": {
              "fillmode": "overlay",
              "size": 10,
              "solidity": 0.2
             }
            },
            "type": "bar"
           }
          ],
          "carpet": [
           {
            "aaxis": {
             "endlinecolor": "rgb(51,51,51)",
             "gridcolor": "white",
             "linecolor": "white",
             "minorgridcolor": "white",
             "startlinecolor": "rgb(51,51,51)"
            },
            "baxis": {
             "endlinecolor": "rgb(51,51,51)",
             "gridcolor": "white",
             "linecolor": "white",
             "minorgridcolor": "white",
             "startlinecolor": "rgb(51,51,51)"
            },
            "type": "carpet"
           }
          ],
          "choropleth": [
           {
            "colorbar": {
             "outlinewidth": 0,
             "tickcolor": "rgb(237,237,237)",
             "ticklen": 6,
             "ticks": "inside"
            },
            "type": "choropleth"
           }
          ],
          "contourcarpet": [
           {
            "colorbar": {
             "outlinewidth": 0,
             "tickcolor": "rgb(237,237,237)",
             "ticklen": 6,
             "ticks": "inside"
            },
            "type": "contourcarpet"
           }
          ],
          "contour": [
           {
            "colorbar": {
             "outlinewidth": 0,
             "tickcolor": "rgb(237,237,237)",
             "ticklen": 6,
             "ticks": "inside"
            },
            "colorscale": [
             [
              0,
              "rgb(20,44,66)"
             ],
             [
              1,
              "rgb(90,179,244)"
             ]
            ],
            "type": "contour"
           }
          ],
          "heatmap": [
           {
            "colorbar": {
             "outlinewidth": 0,
             "tickcolor": "rgb(237,237,237)",
             "ticklen": 6,
             "ticks": "inside"
            },
            "colorscale": [
             [
              0,
              "rgb(20,44,66)"
             ],
             [
              1,
              "rgb(90,179,244)"
             ]
            ],
            "type": "heatmap"
           }
          ],
          "histogram2dcontour": [
           {
            "colorbar": {
             "outlinewidth": 0,
             "tickcolor": "rgb(237,237,237)",
             "ticklen": 6,
             "ticks": "inside"
            },
            "colorscale": [
             [
              0,
              "rgb(20,44,66)"
             ],
             [
              1,
              "rgb(90,179,244)"
             ]
            ],
            "type": "histogram2dcontour"
           }
          ],
          "histogram2d": [
           {
            "colorbar": {
             "outlinewidth": 0,
             "tickcolor": "rgb(237,237,237)",
             "ticklen": 6,
             "ticks": "inside"
            },
            "colorscale": [
             [
              0,
              "rgb(20,44,66)"
             ],
             [
              1,
              "rgb(90,179,244)"
             ]
            ],
            "type": "histogram2d"
           }
          ],
          "histogram": [
           {
            "marker": {
             "pattern": {
              "fillmode": "overlay",
              "size": 10,
              "solidity": 0.2
             }
            },
            "type": "histogram"
           }
          ],
          "mesh3d": [
           {
            "colorbar": {
             "outlinewidth": 0,
             "tickcolor": "rgb(237,237,237)",
             "ticklen": 6,
             "ticks": "inside"
            },
            "type": "mesh3d"
           }
          ],
          "parcoords": [
           {
            "line": {
             "colorbar": {
              "outlinewidth": 0,
              "tickcolor": "rgb(237,237,237)",
              "ticklen": 6,
              "ticks": "inside"
             }
            },
            "type": "parcoords"
           }
          ],
          "pie": [
           {
            "automargin": true,
            "type": "pie"
           }
          ],
          "scatter3d": [
           {
            "line": {
             "colorbar": {
              "outlinewidth": 0,
              "tickcolor": "rgb(237,237,237)",
              "ticklen": 6,
              "ticks": "inside"
             }
            },
            "marker": {
             "colorbar": {
              "outlinewidth": 0,
              "tickcolor": "rgb(237,237,237)",
              "ticklen": 6,
              "ticks": "inside"
             }
            },
            "type": "scatter3d"
           }
          ],
          "scattercarpet": [
           {
            "marker": {
             "colorbar": {
              "outlinewidth": 0,
              "tickcolor": "rgb(237,237,237)",
              "ticklen": 6,
              "ticks": "inside"
             }
            },
            "type": "scattercarpet"
           }
          ],
          "scattergeo": [
           {
            "marker": {
             "colorbar": {
              "outlinewidth": 0,
              "tickcolor": "rgb(237,237,237)",
              "ticklen": 6,
              "ticks": "inside"
             }
            },
            "type": "scattergeo"
           }
          ],
          "scattergl": [
           {
            "marker": {
             "colorbar": {
              "outlinewidth": 0,
              "tickcolor": "rgb(237,237,237)",
              "ticklen": 6,
              "ticks": "inside"
             }
            },
            "type": "scattergl"
           }
          ],
          "scattermapbox": [
           {
            "marker": {
             "colorbar": {
              "outlinewidth": 0,
              "tickcolor": "rgb(237,237,237)",
              "ticklen": 6,
              "ticks": "inside"
             }
            },
            "type": "scattermapbox"
           }
          ],
          "scattermap": [
           {
            "marker": {
             "colorbar": {
              "outlinewidth": 0,
              "tickcolor": "rgb(237,237,237)",
              "ticklen": 6,
              "ticks": "inside"
             }
            },
            "type": "scattermap"
           }
          ],
          "scatterpolargl": [
           {
            "marker": {
             "colorbar": {
              "outlinewidth": 0,
              "tickcolor": "rgb(237,237,237)",
              "ticklen": 6,
              "ticks": "inside"
             }
            },
            "type": "scatterpolargl"
           }
          ],
          "scatterpolar": [
           {
            "marker": {
             "colorbar": {
              "outlinewidth": 0,
              "tickcolor": "rgb(237,237,237)",
              "ticklen": 6,
              "ticks": "inside"
             }
            },
            "type": "scatterpolar"
           }
          ],
          "scatter": [
           {
            "fillpattern": {
             "fillmode": "overlay",
             "size": 10,
             "solidity": 0.2
            },
            "type": "scatter"
           }
          ],
          "scatterternary": [
           {
            "marker": {
             "colorbar": {
              "outlinewidth": 0,
              "tickcolor": "rgb(237,237,237)",
              "ticklen": 6,
              "ticks": "inside"
             }
            },
            "type": "scatterternary"
           }
          ],
          "surface": [
           {
            "colorbar": {
             "outlinewidth": 0,
             "tickcolor": "rgb(237,237,237)",
             "ticklen": 6,
             "ticks": "inside"
            },
            "colorscale": [
             [
              0,
              "rgb(20,44,66)"
             ],
             [
              1,
              "rgb(90,179,244)"
             ]
            ],
            "type": "surface"
           }
          ],
          "table": [
           {
            "cells": {
             "fill": {
              "color": "rgb(237,237,237)"
             },
             "line": {
              "color": "white"
             }
            },
            "header": {
             "fill": {
              "color": "rgb(217,217,217)"
             },
             "line": {
              "color": "white"
             }
            },
            "type": "table"
           }
          ]
         },
         "layout": {
          "annotationdefaults": {
           "arrowhead": 0,
           "arrowwidth": 1
          },
          "autotypenumbers": "strict",
          "coloraxis": {
           "colorbar": {
            "outlinewidth": 0,
            "tickcolor": "rgb(237,237,237)",
            "ticklen": 6,
            "ticks": "inside"
           }
          },
          "colorscale": {
           "sequential": [
            [
             0,
             "rgb(20,44,66)"
            ],
            [
             1,
             "rgb(90,179,244)"
            ]
           ],
           "sequentialminus": [
            [
             0,
             "rgb(20,44,66)"
            ],
            [
             1,
             "rgb(90,179,244)"
            ]
           ]
          },
          "colorway": [
           "#F8766D",
           "#A3A500",
           "#00BF7D",
           "#00B0F6",
           "#E76BF3"
          ],
          "font": {
           "color": "rgb(51,51,51)"
          },
          "geo": {
           "bgcolor": "white",
           "lakecolor": "white",
           "landcolor": "rgb(237,237,237)",
           "showlakes": true,
           "showland": true,
           "subunitcolor": "white"
          },
          "hoverlabel": {
           "align": "left"
          },
          "hovermode": "closest",
          "paper_bgcolor": "white",
          "plot_bgcolor": "rgb(237,237,237)",
          "polar": {
           "angularaxis": {
            "gridcolor": "white",
            "linecolor": "white",
            "showgrid": true,
            "tickcolor": "rgb(51,51,51)",
            "ticks": "outside"
           },
           "bgcolor": "rgb(237,237,237)",
           "radialaxis": {
            "gridcolor": "white",
            "linecolor": "white",
            "showgrid": true,
            "tickcolor": "rgb(51,51,51)",
            "ticks": "outside"
           }
          },
          "scene": {
           "xaxis": {
            "backgroundcolor": "rgb(237,237,237)",
            "gridcolor": "white",
            "gridwidth": 2,
            "linecolor": "white",
            "showbackground": true,
            "showgrid": true,
            "tickcolor": "rgb(51,51,51)",
            "ticks": "outside",
            "zerolinecolor": "white"
           },
           "yaxis": {
            "backgroundcolor": "rgb(237,237,237)",
            "gridcolor": "white",
            "gridwidth": 2,
            "linecolor": "white",
            "showbackground": true,
            "showgrid": true,
            "tickcolor": "rgb(51,51,51)",
            "ticks": "outside",
            "zerolinecolor": "white"
           },
           "zaxis": {
            "backgroundcolor": "rgb(237,237,237)",
            "gridcolor": "white",
            "gridwidth": 2,
            "linecolor": "white",
            "showbackground": true,
            "showgrid": true,
            "tickcolor": "rgb(51,51,51)",
            "ticks": "outside",
            "zerolinecolor": "white"
           }
          },
          "shapedefaults": {
           "fillcolor": "black",
           "line": {
            "width": 0
           },
           "opacity": 0.3
          },
          "ternary": {
           "aaxis": {
            "gridcolor": "white",
            "linecolor": "white",
            "showgrid": true,
            "tickcolor": "rgb(51,51,51)",
            "ticks": "outside"
           },
           "baxis": {
            "gridcolor": "white",
            "linecolor": "white",
            "showgrid": true,
            "tickcolor": "rgb(51,51,51)",
            "ticks": "outside"
           },
           "bgcolor": "rgb(237,237,237)",
           "caxis": {
            "gridcolor": "white",
            "linecolor": "white",
            "showgrid": true,
            "tickcolor": "rgb(51,51,51)",
            "ticks": "outside"
           }
          },
          "xaxis": {
           "automargin": true,
           "gridcolor": "white",
           "linecolor": "white",
           "showgrid": true,
           "tickcolor": "rgb(51,51,51)",
           "ticks": "outside",
           "title": {
            "standoff": 15
           },
           "zerolinecolor": "white"
          },
          "yaxis": {
           "automargin": true,
           "gridcolor": "white",
           "linecolor": "white",
           "showgrid": true,
           "tickcolor": "rgb(51,51,51)",
           "ticks": "outside",
           "title": {
            "standoff": 15
           },
           "zerolinecolor": "white"
          }
         }
        },
        "xaxis": {
         "anchor": "y",
         "domain": [
          0.0,
          1.0
         ],
         "title": {
          "text": "x"
         }
        },
        "yaxis": {
         "anchor": "x",
         "domain": [
          0.0,
          1.0
         ],
         "title": {
          "text": "y"
         }
        },
        "legend": {
         "title": {
          "text": "cell_types"
         },
         "tracegroupgap": 0
        },
        "title": {
         "text": "Single-Cell RNA Cell Types Clustering"
        },
        "height": 600,
        "width": 1100
       },
       "config": {
        "plotlyServerURL": "https://plot.ly"
       }
      }
     },
     "metadata": {},
     "output_type": "display_data"
    }
   ],
   "execution_count": 29
  },
  {
   "metadata": {},
   "cell_type": "code",
   "outputs": [],
   "execution_count": null,
   "source": "# DONE",
   "id": "cd17e7eb32e4e176"
  }
 ],
 "metadata": {
  "kernelspec": {
   "display_name": "Python 3",
   "language": "python",
   "name": "python3"
  },
  "language_info": {
   "codemirror_mode": {
    "name": "ipython",
    "version": 2
   },
   "file_extension": ".py",
   "mimetype": "text/x-python",
   "name": "python",
   "nbconvert_exporter": "python",
   "pygments_lexer": "ipython2",
   "version": "2.7.6"
  }
 },
 "nbformat": 4,
 "nbformat_minor": 5
}
