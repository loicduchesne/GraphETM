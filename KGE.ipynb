{
 "cells": [
  {
   "metadata": {},
   "cell_type": "markdown",
   "source": "# Knowledge Graph Embedding (KGE) Training Notebook",
   "id": "75852b8e51af2279"
  },
  {
   "metadata": {
    "jupyter": {
     "is_executing": true
    }
   },
   "cell_type": "code",
   "source": [
    "### Imports\n",
    "# Local\n",
    "from model.kge_trainer import KGETrainer\n",
    "from utils import IBKHDataset\n",
    "\n",
    "# External\n",
    "import time\n",
    "import random\n",
    "import numpy as np\n",
    "\n",
    "import torch\n",
    "import torch.optim as optim\n",
    "\n",
    "import torch_geometric as pyg\n",
    "from torch_geometric.nn.kge import TransE\n",
    "\n",
    "import wandb\n",
    "\n",
    "### Parameters\n",
    "wandb.login()"
   ],
   "id": "b594b9c64bb75b73",
   "outputs": [],
   "execution_count": null
  },
  {
   "metadata": {
    "ExecuteTime": {
     "end_time": "2025-06-24T21:34:24.881803Z",
     "start_time": "2025-06-24T21:34:24.874920Z"
    }
   },
   "cell_type": "code",
   "source": [
    "# Seeds\n",
    "pyg.seed_everything(10) # random, np, torch, torch.cuda"
   ],
   "id": "557db418d1a5cca5",
   "outputs": [],
   "execution_count": 2
  },
  {
   "metadata": {},
   "cell_type": "markdown",
   "source": [
    "---\n",
    "# Training"
   ],
   "id": "dc5337a766dbb8e5"
  },
  {
   "metadata": {
    "ExecuteTime": {
     "end_time": "2025-06-24T21:34:24.928906Z",
     "start_time": "2025-06-24T21:34:24.886618Z"
    }
   },
   "cell_type": "code",
   "source": [
    "### Data\n",
    "try:\n",
    "    data = torch.load('inputs/KGE/input_triplet.pt', weights_only=False)\n",
    "    print('Data loaded from cache...')\n",
    "except IOError:\n",
    "    iKBH_dataset = IBKHDataset(data_dir='data/iBKH')\n",
    "    data = iKBH_dataset.build_data()\n",
    "    torch.save(data, 'inputs/KGE/input_triplet.pt')"
   ],
   "id": "48e130197083f0a2",
   "outputs": [
    {
     "name": "stdout",
     "output_type": "stream",
     "text": [
      "Data loaded from cache...\n"
     ]
    }
   ],
   "execution_count": 3
  },
  {
   "metadata": {
    "ExecuteTime": {
     "end_time": "2025-06-24T21:34:25.007392Z",
     "start_time": "2025-06-24T21:34:24.944322Z"
    }
   },
   "cell_type": "code",
   "source": [
    "### Device\n",
    "device = torch.device('cuda' if torch.cuda.is_available() else 'mps' if torch.mps.is_available() else 'cpu')\n",
    "# device = torch.device('cpu')\n",
    "print(f'Using device: {device}')\n",
    "\n",
    "# DATA TO DEVICE\n",
    "data.to(device)"
   ],
   "id": "53a35d301057deca",
   "outputs": [
    {
     "name": "stdout",
     "output_type": "stream",
     "text": [
      "Using device: mps\n"
     ]
    },
    {
     "data": {
      "text/plain": [
       "Data(edge_index=[2, 11470691], edge_type=[11470691], num_nodes=122777, num_edge_types=6)"
      ]
     },
     "execution_count": 4,
     "metadata": {},
     "output_type": "execute_result"
    }
   ],
   "execution_count": 4
  },
  {
   "metadata": {
    "ExecuteTime": {
     "end_time": "2025-06-24T21:43:20.507533Z",
     "start_time": "2025-06-24T21:34:31.169857Z"
    }
   },
   "cell_type": "code",
   "source": [
    "### Parameters\n",
    "config = {\n",
    "    'model': dict(\n",
    "        num_nodes = data.num_nodes,\n",
    "        num_relations = data.num_edge_types,\n",
    "        hidden_channels = 64,\n",
    "        margin = 1.0, p_norm = 1),\n",
    "\n",
    "    'dataloader': dict(\n",
    "        head_index=data.edge_index[0],\n",
    "        rel_type=data.edge_type,\n",
    "        tail_index=data.edge_index[1],\n",
    "        batch_size=4096,\n",
    "        shuffle=True\n",
    "    ),\n",
    "\n",
    "    'training': dict(\n",
    "        lr = 0.01,\n",
    "        epochs = 15,\n",
    "    ),\n",
    "\n",
    "    'device': device,\n",
    "}\n",
    "\n",
    "### Model\n",
    "kge_trainer = KGETrainer(\n",
    "    model := TransE(**config['model']).to(device), # Model\n",
    "    train_dataloader = model.loader(**config['dataloader']), # Dataloader\n",
    "    val_dataloader = None,\n",
    "    device = device,\n",
    "    wandb_run = wandb.init(\n",
    "        project ='GraphETM-KGE',\n",
    "        name = f'iBKH-TransE-64',\n",
    "        config=config, save_code=True) # Start Wandb\n",
    ")\n",
    "\n",
    "### Training\n",
    "kge_trainer.fit(\n",
    "    epochs = config['training']['epochs'],\n",
    "    optimizer = optim.Adam(kge_trainer.model.parameters(), lr=config['training']['lr']) # Optimizer\n",
    ")"
   ],
   "id": "6d73ff2e3dc8fcc2",
   "outputs": [
    {
     "data": {
      "text/plain": [
       "<IPython.core.display.HTML object>"
      ],
      "text/html": [
       "Tracking run with wandb version 0.19.11"
      ]
     },
     "metadata": {},
     "output_type": "display_data"
    },
    {
     "data": {
      "text/plain": [
       "<IPython.core.display.HTML object>"
      ],
      "text/html": [
       "Run data is saved locally in <code>/Users/loicduchesne/Library/CloudStorage/OneDrive-Personal/Projects/Graph-scETM/wandb/run-20250624_173431-e815rumi</code>"
      ]
     },
     "metadata": {},
     "output_type": "display_data"
    },
    {
     "data": {
      "text/plain": [
       "<IPython.core.display.HTML object>"
      ],
      "text/html": [
       "Syncing run <strong><a href='https://wandb.ai/loicduch-mcgill-university/GraphETM-KGE/runs/e815rumi' target=\"_blank\">iBKH-TransE-64</a></strong> to <a href='https://wandb.ai/loicduch-mcgill-university/GraphETM-KGE' target=\"_blank\">Weights & Biases</a> (<a href='https://wandb.me/developer-guide' target=\"_blank\">docs</a>)<br>"
      ]
     },
     "metadata": {},
     "output_type": "display_data"
    },
    {
     "data": {
      "text/plain": [
       "<IPython.core.display.HTML object>"
      ],
      "text/html": [
       " View project at <a href='https://wandb.ai/loicduch-mcgill-university/GraphETM-KGE' target=\"_blank\">https://wandb.ai/loicduch-mcgill-university/GraphETM-KGE</a>"
      ]
     },
     "metadata": {},
     "output_type": "display_data"
    },
    {
     "data": {
      "text/plain": [
       "<IPython.core.display.HTML object>"
      ],
      "text/html": [
       " View run at <a href='https://wandb.ai/loicduch-mcgill-university/GraphETM-KGE/runs/e815rumi' target=\"_blank\">https://wandb.ai/loicduch-mcgill-university/GraphETM-KGE/runs/e815rumi</a>"
      ]
     },
     "metadata": {},
     "output_type": "display_data"
    },
    {
     "data": {
      "text/plain": [
       "Epoch 0: Training:   0%|          | 0/42015 [00:00<?, ?batch/s]"
      ],
      "application/vnd.jupyter.widget-view+json": {
       "version_major": 2,
       "version_minor": 0,
       "model_id": "360517e0d8844d68a256d18c8045637f"
      }
     },
     "metadata": {},
     "output_type": "display_data"
    },
    {
     "data": {
      "text/plain": [
       "<IPython.core.display.HTML object>"
      ],
      "text/html": []
     },
     "metadata": {},
     "output_type": "display_data"
    },
    {
     "data": {
      "text/plain": [
       "<IPython.core.display.HTML object>"
      ],
      "text/html": [
       "<br>    <style><br>        .wandb-row {<br>            display: flex;<br>            flex-direction: row;<br>            flex-wrap: wrap;<br>            justify-content: flex-start;<br>            width: 100%;<br>        }<br>        .wandb-col {<br>            display: flex;<br>            flex-direction: column;<br>            flex-basis: 100%;<br>            flex: 1;<br>            padding: 10px;<br>        }<br>    </style><br><div class=\"wandb-row\"><div class=\"wandb-col\"><h3>Run history:</h3><br/><table class=\"wandb\"><tr><td>train/loss</td><td>█▂▂▂▁▁▁▁▁▁▁▁▁▁▁</td></tr></table><br/></div><div class=\"wandb-col\"><h3>Run summary:</h3><br/><table class=\"wandb\"><tr><td>train/loss</td><td>0.09632</td></tr></table><br/></div></div>"
      ]
     },
     "metadata": {},
     "output_type": "display_data"
    },
    {
     "data": {
      "text/plain": [
       "<IPython.core.display.HTML object>"
      ],
      "text/html": [
       " View run <strong style=\"color:#cdcd00\">iBKH-TransE-64</strong> at: <a href='https://wandb.ai/loicduch-mcgill-university/GraphETM-KGE/runs/e815rumi' target=\"_blank\">https://wandb.ai/loicduch-mcgill-university/GraphETM-KGE/runs/e815rumi</a><br> View project at: <a href='https://wandb.ai/loicduch-mcgill-university/GraphETM-KGE' target=\"_blank\">https://wandb.ai/loicduch-mcgill-university/GraphETM-KGE</a><br>Synced 8 W&B file(s), 0 media file(s), 3 artifact file(s) and 0 other file(s)"
      ]
     },
     "metadata": {},
     "output_type": "display_data"
    },
    {
     "data": {
      "text/plain": [
       "<IPython.core.display.HTML object>"
      ],
      "text/html": [
       "Find logs at: <code>./wandb/run-20250624_173431-e815rumi/logs</code>"
      ]
     },
     "metadata": {},
     "output_type": "display_data"
    }
   ],
   "execution_count": 5
  },
  {
   "metadata": {
    "ExecuteTime": {
     "end_time": "2025-06-24T21:43:20.605124Z",
     "start_time": "2025-06-24T21:43:20.540101Z"
    }
   },
   "cell_type": "code",
   "source": [
    "### Extract Embeddings\n",
    "rho = kge_trainer.model.node_emb.weight.detach().cpu()\n",
    "torch.save(rho, 'inputs/GraphETM/embedding_full.pt')"
   ],
   "id": "88135bc712f8d910",
   "outputs": [],
   "execution_count": 6
  },
  {
   "metadata": {
    "ExecuteTime": {
     "end_time": "2025-06-24T21:33:42.026691Z",
     "start_time": "2025-05-15T02:27:02.924237Z"
    }
   },
   "cell_type": "code",
   "source": [
    "# Save EHR and SC embeddings\n",
    "# sc_indices  = np.load('inputs/GraphETM/id_embed_sc.npy')\n",
    "# ehr_indices = np.load('inputs/GraphETM/id_embed_ehr.npy')\n",
    "\n",
    "# torch.save(rho[sc_indices,  :], 'inputs/GraphETM/embedding_sc.pt')\n",
    "# torch.save(rho[ehr_indices, :], 'inputs/GraphETM/embedding_ehr.pt')"
   ],
   "id": "398995b1906cd0f7",
   "outputs": [],
   "execution_count": 8
  },
  {
   "metadata": {
    "ExecuteTime": {
     "end_time": "2025-05-13T23:47:09.944824Z",
     "start_time": "2025-05-13T23:47:09.942145Z"
    }
   },
   "cell_type": "code",
   "source": "#DONE",
   "id": "66ee1f6ffc314538",
   "outputs": [],
   "execution_count": 19
  }
 ],
 "metadata": {
  "kernelspec": {
   "display_name": "Python 3",
   "language": "python",
   "name": "python3"
  },
  "language_info": {
   "codemirror_mode": {
    "name": "ipython",
    "version": 2
   },
   "file_extension": ".py",
   "mimetype": "text/x-python",
   "name": "python",
   "nbconvert_exporter": "python",
   "pygments_lexer": "ipython2",
   "version": "2.7.6"
  }
 },
 "nbformat": 4,
 "nbformat_minor": 5
}
